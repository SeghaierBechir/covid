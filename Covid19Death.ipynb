{
  "nbformat": 4,
  "nbformat_minor": 0,
  "metadata": {
    "colab": {
      "name": "Covid19Death.ipynb",
      "provenance": [],
      "collapsed_sections": []
    },
    "kernelspec": {
      "name": "python3",
      "display_name": "Python 3"
    },
    "language_info": {
      "name": "python"
    },
    "accelerator": "GPU"
  },
  "cells": [
    {
      "cell_type": "code",
      "metadata": {
        "id": "53sp2n3AEmb-"
      },
      "source": [
        "import pandas as pd\n",
        "import numpy as np\n",
        "import matplotlib.pyplot as plt"
      ],
      "execution_count": 1,
      "outputs": []
    },
    {
      "cell_type": "code",
      "metadata": {
        "colab": {
          "base_uri": "https://localhost:8080/",
          "height": 253
        },
        "id": "z4AHV8jdFCsE",
        "outputId": "b81cf1d8-d17c-4625-d918-8c40829d9f29"
      },
      "source": [
        "df_confirmed = pd.read_csv(\"https://raw.githubusercontent.com/CSSEGISandData/COVID-19/master/csse_covid_19_data/csse_covid_19_time_series/time_series_covid19_deaths_global.csv\")\n",
        "df_confirmed.head()"
      ],
      "execution_count": 2,
      "outputs": [
        {
          "output_type": "execute_result",
          "data": {
            "text/html": [
              "<div>\n",
              "<style scoped>\n",
              "    .dataframe tbody tr th:only-of-type {\n",
              "        vertical-align: middle;\n",
              "    }\n",
              "\n",
              "    .dataframe tbody tr th {\n",
              "        vertical-align: top;\n",
              "    }\n",
              "\n",
              "    .dataframe thead th {\n",
              "        text-align: right;\n",
              "    }\n",
              "</style>\n",
              "<table border=\"1\" class=\"dataframe\">\n",
              "  <thead>\n",
              "    <tr style=\"text-align: right;\">\n",
              "      <th></th>\n",
              "      <th>Province/State</th>\n",
              "      <th>Country/Region</th>\n",
              "      <th>Lat</th>\n",
              "      <th>Long</th>\n",
              "      <th>1/22/20</th>\n",
              "      <th>1/23/20</th>\n",
              "      <th>1/24/20</th>\n",
              "      <th>1/25/20</th>\n",
              "      <th>1/26/20</th>\n",
              "      <th>1/27/20</th>\n",
              "      <th>1/28/20</th>\n",
              "      <th>1/29/20</th>\n",
              "      <th>1/30/20</th>\n",
              "      <th>1/31/20</th>\n",
              "      <th>2/1/20</th>\n",
              "      <th>2/2/20</th>\n",
              "      <th>2/3/20</th>\n",
              "      <th>2/4/20</th>\n",
              "      <th>2/5/20</th>\n",
              "      <th>2/6/20</th>\n",
              "      <th>2/7/20</th>\n",
              "      <th>2/8/20</th>\n",
              "      <th>2/9/20</th>\n",
              "      <th>2/10/20</th>\n",
              "      <th>2/11/20</th>\n",
              "      <th>2/12/20</th>\n",
              "      <th>2/13/20</th>\n",
              "      <th>2/14/20</th>\n",
              "      <th>2/15/20</th>\n",
              "      <th>2/16/20</th>\n",
              "      <th>2/17/20</th>\n",
              "      <th>2/18/20</th>\n",
              "      <th>2/19/20</th>\n",
              "      <th>2/20/20</th>\n",
              "      <th>2/21/20</th>\n",
              "      <th>2/22/20</th>\n",
              "      <th>2/23/20</th>\n",
              "      <th>2/24/20</th>\n",
              "      <th>2/25/20</th>\n",
              "      <th>2/26/20</th>\n",
              "      <th>...</th>\n",
              "      <th>6/27/21</th>\n",
              "      <th>6/28/21</th>\n",
              "      <th>6/29/21</th>\n",
              "      <th>6/30/21</th>\n",
              "      <th>7/1/21</th>\n",
              "      <th>7/2/21</th>\n",
              "      <th>7/3/21</th>\n",
              "      <th>7/4/21</th>\n",
              "      <th>7/5/21</th>\n",
              "      <th>7/6/21</th>\n",
              "      <th>7/7/21</th>\n",
              "      <th>7/8/21</th>\n",
              "      <th>7/9/21</th>\n",
              "      <th>7/10/21</th>\n",
              "      <th>7/11/21</th>\n",
              "      <th>7/12/21</th>\n",
              "      <th>7/13/21</th>\n",
              "      <th>7/14/21</th>\n",
              "      <th>7/15/21</th>\n",
              "      <th>7/16/21</th>\n",
              "      <th>7/17/21</th>\n",
              "      <th>7/18/21</th>\n",
              "      <th>7/19/21</th>\n",
              "      <th>7/20/21</th>\n",
              "      <th>7/21/21</th>\n",
              "      <th>7/22/21</th>\n",
              "      <th>7/23/21</th>\n",
              "      <th>7/24/21</th>\n",
              "      <th>7/25/21</th>\n",
              "      <th>7/26/21</th>\n",
              "      <th>7/27/21</th>\n",
              "      <th>7/28/21</th>\n",
              "      <th>7/29/21</th>\n",
              "      <th>7/30/21</th>\n",
              "      <th>7/31/21</th>\n",
              "      <th>8/1/21</th>\n",
              "      <th>8/2/21</th>\n",
              "      <th>8/3/21</th>\n",
              "      <th>8/4/21</th>\n",
              "      <th>8/5/21</th>\n",
              "    </tr>\n",
              "  </thead>\n",
              "  <tbody>\n",
              "    <tr>\n",
              "      <th>0</th>\n",
              "      <td>NaN</td>\n",
              "      <td>Afghanistan</td>\n",
              "      <td>33.93911</td>\n",
              "      <td>67.709953</td>\n",
              "      <td>0</td>\n",
              "      <td>0</td>\n",
              "      <td>0</td>\n",
              "      <td>0</td>\n",
              "      <td>0</td>\n",
              "      <td>0</td>\n",
              "      <td>0</td>\n",
              "      <td>0</td>\n",
              "      <td>0</td>\n",
              "      <td>0</td>\n",
              "      <td>0</td>\n",
              "      <td>0</td>\n",
              "      <td>0</td>\n",
              "      <td>0</td>\n",
              "      <td>0</td>\n",
              "      <td>0</td>\n",
              "      <td>0</td>\n",
              "      <td>0</td>\n",
              "      <td>0</td>\n",
              "      <td>0</td>\n",
              "      <td>0</td>\n",
              "      <td>0</td>\n",
              "      <td>0</td>\n",
              "      <td>0</td>\n",
              "      <td>0</td>\n",
              "      <td>0</td>\n",
              "      <td>0</td>\n",
              "      <td>0</td>\n",
              "      <td>0</td>\n",
              "      <td>0</td>\n",
              "      <td>0</td>\n",
              "      <td>0</td>\n",
              "      <td>0</td>\n",
              "      <td>0</td>\n",
              "      <td>0</td>\n",
              "      <td>0</td>\n",
              "      <td>...</td>\n",
              "      <td>4519</td>\n",
              "      <td>4730</td>\n",
              "      <td>4794</td>\n",
              "      <td>4871</td>\n",
              "      <td>4962</td>\n",
              "      <td>4962</td>\n",
              "      <td>4962</td>\n",
              "      <td>4962</td>\n",
              "      <td>5283</td>\n",
              "      <td>5360</td>\n",
              "      <td>5415</td>\n",
              "      <td>5477</td>\n",
              "      <td>5561</td>\n",
              "      <td>5561</td>\n",
              "      <td>5561</td>\n",
              "      <td>5791</td>\n",
              "      <td>5791</td>\n",
              "      <td>5923</td>\n",
              "      <td>5983</td>\n",
              "      <td>5983</td>\n",
              "      <td>5983</td>\n",
              "      <td>5983</td>\n",
              "      <td>6213</td>\n",
              "      <td>6266</td>\n",
              "      <td>6266</td>\n",
              "      <td>6325</td>\n",
              "      <td>6357</td>\n",
              "      <td>6357</td>\n",
              "      <td>6357</td>\n",
              "      <td>6477</td>\n",
              "      <td>6515</td>\n",
              "      <td>6577</td>\n",
              "      <td>6615</td>\n",
              "      <td>6677</td>\n",
              "      <td>6677</td>\n",
              "      <td>6677</td>\n",
              "      <td>6774</td>\n",
              "      <td>6804</td>\n",
              "      <td>6836</td>\n",
              "      <td>6864</td>\n",
              "    </tr>\n",
              "    <tr>\n",
              "      <th>1</th>\n",
              "      <td>NaN</td>\n",
              "      <td>Albania</td>\n",
              "      <td>41.15330</td>\n",
              "      <td>20.168300</td>\n",
              "      <td>0</td>\n",
              "      <td>0</td>\n",
              "      <td>0</td>\n",
              "      <td>0</td>\n",
              "      <td>0</td>\n",
              "      <td>0</td>\n",
              "      <td>0</td>\n",
              "      <td>0</td>\n",
              "      <td>0</td>\n",
              "      <td>0</td>\n",
              "      <td>0</td>\n",
              "      <td>0</td>\n",
              "      <td>0</td>\n",
              "      <td>0</td>\n",
              "      <td>0</td>\n",
              "      <td>0</td>\n",
              "      <td>0</td>\n",
              "      <td>0</td>\n",
              "      <td>0</td>\n",
              "      <td>0</td>\n",
              "      <td>0</td>\n",
              "      <td>0</td>\n",
              "      <td>0</td>\n",
              "      <td>0</td>\n",
              "      <td>0</td>\n",
              "      <td>0</td>\n",
              "      <td>0</td>\n",
              "      <td>0</td>\n",
              "      <td>0</td>\n",
              "      <td>0</td>\n",
              "      <td>0</td>\n",
              "      <td>0</td>\n",
              "      <td>0</td>\n",
              "      <td>0</td>\n",
              "      <td>0</td>\n",
              "      <td>0</td>\n",
              "      <td>...</td>\n",
              "      <td>2456</td>\n",
              "      <td>2456</td>\n",
              "      <td>2456</td>\n",
              "      <td>2456</td>\n",
              "      <td>2456</td>\n",
              "      <td>2456</td>\n",
              "      <td>2456</td>\n",
              "      <td>2456</td>\n",
              "      <td>2456</td>\n",
              "      <td>2456</td>\n",
              "      <td>2456</td>\n",
              "      <td>2456</td>\n",
              "      <td>2456</td>\n",
              "      <td>2456</td>\n",
              "      <td>2456</td>\n",
              "      <td>2456</td>\n",
              "      <td>2456</td>\n",
              "      <td>2456</td>\n",
              "      <td>2456</td>\n",
              "      <td>2456</td>\n",
              "      <td>2456</td>\n",
              "      <td>2456</td>\n",
              "      <td>2456</td>\n",
              "      <td>2456</td>\n",
              "      <td>2456</td>\n",
              "      <td>2456</td>\n",
              "      <td>2456</td>\n",
              "      <td>2456</td>\n",
              "      <td>2456</td>\n",
              "      <td>2456</td>\n",
              "      <td>2456</td>\n",
              "      <td>2457</td>\n",
              "      <td>2457</td>\n",
              "      <td>2457</td>\n",
              "      <td>2457</td>\n",
              "      <td>2457</td>\n",
              "      <td>2457</td>\n",
              "      <td>2457</td>\n",
              "      <td>2457</td>\n",
              "      <td>2457</td>\n",
              "    </tr>\n",
              "    <tr>\n",
              "      <th>2</th>\n",
              "      <td>NaN</td>\n",
              "      <td>Algeria</td>\n",
              "      <td>28.03390</td>\n",
              "      <td>1.659600</td>\n",
              "      <td>0</td>\n",
              "      <td>0</td>\n",
              "      <td>0</td>\n",
              "      <td>0</td>\n",
              "      <td>0</td>\n",
              "      <td>0</td>\n",
              "      <td>0</td>\n",
              "      <td>0</td>\n",
              "      <td>0</td>\n",
              "      <td>0</td>\n",
              "      <td>0</td>\n",
              "      <td>0</td>\n",
              "      <td>0</td>\n",
              "      <td>0</td>\n",
              "      <td>0</td>\n",
              "      <td>0</td>\n",
              "      <td>0</td>\n",
              "      <td>0</td>\n",
              "      <td>0</td>\n",
              "      <td>0</td>\n",
              "      <td>0</td>\n",
              "      <td>0</td>\n",
              "      <td>0</td>\n",
              "      <td>0</td>\n",
              "      <td>0</td>\n",
              "      <td>0</td>\n",
              "      <td>0</td>\n",
              "      <td>0</td>\n",
              "      <td>0</td>\n",
              "      <td>0</td>\n",
              "      <td>0</td>\n",
              "      <td>0</td>\n",
              "      <td>0</td>\n",
              "      <td>0</td>\n",
              "      <td>0</td>\n",
              "      <td>0</td>\n",
              "      <td>...</td>\n",
              "      <td>3693</td>\n",
              "      <td>3699</td>\n",
              "      <td>3708</td>\n",
              "      <td>3716</td>\n",
              "      <td>3726</td>\n",
              "      <td>3735</td>\n",
              "      <td>3745</td>\n",
              "      <td>3755</td>\n",
              "      <td>3765</td>\n",
              "      <td>3775</td>\n",
              "      <td>3786</td>\n",
              "      <td>3798</td>\n",
              "      <td>3811</td>\n",
              "      <td>3824</td>\n",
              "      <td>3836</td>\n",
              "      <td>3851</td>\n",
              "      <td>3867</td>\n",
              "      <td>3882</td>\n",
              "      <td>3895</td>\n",
              "      <td>3910</td>\n",
              "      <td>3922</td>\n",
              "      <td>3938</td>\n",
              "      <td>3956</td>\n",
              "      <td>3979</td>\n",
              "      <td>3994</td>\n",
              "      <td>4008</td>\n",
              "      <td>4026</td>\n",
              "      <td>4042</td>\n",
              "      <td>4063</td>\n",
              "      <td>4087</td>\n",
              "      <td>4112</td>\n",
              "      <td>4161</td>\n",
              "      <td>4189</td>\n",
              "      <td>4219</td>\n",
              "      <td>4254</td>\n",
              "      <td>4291</td>\n",
              "      <td>4329</td>\n",
              "      <td>4370</td>\n",
              "      <td>4404</td>\n",
              "      <td>4441</td>\n",
              "    </tr>\n",
              "    <tr>\n",
              "      <th>3</th>\n",
              "      <td>NaN</td>\n",
              "      <td>Andorra</td>\n",
              "      <td>42.50630</td>\n",
              "      <td>1.521800</td>\n",
              "      <td>0</td>\n",
              "      <td>0</td>\n",
              "      <td>0</td>\n",
              "      <td>0</td>\n",
              "      <td>0</td>\n",
              "      <td>0</td>\n",
              "      <td>0</td>\n",
              "      <td>0</td>\n",
              "      <td>0</td>\n",
              "      <td>0</td>\n",
              "      <td>0</td>\n",
              "      <td>0</td>\n",
              "      <td>0</td>\n",
              "      <td>0</td>\n",
              "      <td>0</td>\n",
              "      <td>0</td>\n",
              "      <td>0</td>\n",
              "      <td>0</td>\n",
              "      <td>0</td>\n",
              "      <td>0</td>\n",
              "      <td>0</td>\n",
              "      <td>0</td>\n",
              "      <td>0</td>\n",
              "      <td>0</td>\n",
              "      <td>0</td>\n",
              "      <td>0</td>\n",
              "      <td>0</td>\n",
              "      <td>0</td>\n",
              "      <td>0</td>\n",
              "      <td>0</td>\n",
              "      <td>0</td>\n",
              "      <td>0</td>\n",
              "      <td>0</td>\n",
              "      <td>0</td>\n",
              "      <td>0</td>\n",
              "      <td>0</td>\n",
              "      <td>...</td>\n",
              "      <td>127</td>\n",
              "      <td>127</td>\n",
              "      <td>127</td>\n",
              "      <td>127</td>\n",
              "      <td>127</td>\n",
              "      <td>127</td>\n",
              "      <td>127</td>\n",
              "      <td>127</td>\n",
              "      <td>127</td>\n",
              "      <td>127</td>\n",
              "      <td>127</td>\n",
              "      <td>127</td>\n",
              "      <td>127</td>\n",
              "      <td>127</td>\n",
              "      <td>127</td>\n",
              "      <td>127</td>\n",
              "      <td>127</td>\n",
              "      <td>127</td>\n",
              "      <td>127</td>\n",
              "      <td>127</td>\n",
              "      <td>127</td>\n",
              "      <td>127</td>\n",
              "      <td>127</td>\n",
              "      <td>127</td>\n",
              "      <td>127</td>\n",
              "      <td>127</td>\n",
              "      <td>127</td>\n",
              "      <td>127</td>\n",
              "      <td>127</td>\n",
              "      <td>127</td>\n",
              "      <td>127</td>\n",
              "      <td>127</td>\n",
              "      <td>127</td>\n",
              "      <td>128</td>\n",
              "      <td>128</td>\n",
              "      <td>128</td>\n",
              "      <td>128</td>\n",
              "      <td>128</td>\n",
              "      <td>128</td>\n",
              "      <td>128</td>\n",
              "    </tr>\n",
              "    <tr>\n",
              "      <th>4</th>\n",
              "      <td>NaN</td>\n",
              "      <td>Angola</td>\n",
              "      <td>-11.20270</td>\n",
              "      <td>17.873900</td>\n",
              "      <td>0</td>\n",
              "      <td>0</td>\n",
              "      <td>0</td>\n",
              "      <td>0</td>\n",
              "      <td>0</td>\n",
              "      <td>0</td>\n",
              "      <td>0</td>\n",
              "      <td>0</td>\n",
              "      <td>0</td>\n",
              "      <td>0</td>\n",
              "      <td>0</td>\n",
              "      <td>0</td>\n",
              "      <td>0</td>\n",
              "      <td>0</td>\n",
              "      <td>0</td>\n",
              "      <td>0</td>\n",
              "      <td>0</td>\n",
              "      <td>0</td>\n",
              "      <td>0</td>\n",
              "      <td>0</td>\n",
              "      <td>0</td>\n",
              "      <td>0</td>\n",
              "      <td>0</td>\n",
              "      <td>0</td>\n",
              "      <td>0</td>\n",
              "      <td>0</td>\n",
              "      <td>0</td>\n",
              "      <td>0</td>\n",
              "      <td>0</td>\n",
              "      <td>0</td>\n",
              "      <td>0</td>\n",
              "      <td>0</td>\n",
              "      <td>0</td>\n",
              "      <td>0</td>\n",
              "      <td>0</td>\n",
              "      <td>0</td>\n",
              "      <td>...</td>\n",
              "      <td>889</td>\n",
              "      <td>891</td>\n",
              "      <td>894</td>\n",
              "      <td>900</td>\n",
              "      <td>903</td>\n",
              "      <td>906</td>\n",
              "      <td>910</td>\n",
              "      <td>913</td>\n",
              "      <td>915</td>\n",
              "      <td>920</td>\n",
              "      <td>925</td>\n",
              "      <td>925</td>\n",
              "      <td>928</td>\n",
              "      <td>929</td>\n",
              "      <td>935</td>\n",
              "      <td>939</td>\n",
              "      <td>941</td>\n",
              "      <td>946</td>\n",
              "      <td>951</td>\n",
              "      <td>952</td>\n",
              "      <td>954</td>\n",
              "      <td>957</td>\n",
              "      <td>969</td>\n",
              "      <td>970</td>\n",
              "      <td>973</td>\n",
              "      <td>977</td>\n",
              "      <td>981</td>\n",
              "      <td>982</td>\n",
              "      <td>984</td>\n",
              "      <td>991</td>\n",
              "      <td>994</td>\n",
              "      <td>1000</td>\n",
              "      <td>1003</td>\n",
              "      <td>1008</td>\n",
              "      <td>1011</td>\n",
              "      <td>1016</td>\n",
              "      <td>1018</td>\n",
              "      <td>1022</td>\n",
              "      <td>1026</td>\n",
              "      <td>1032</td>\n",
              "    </tr>\n",
              "  </tbody>\n",
              "</table>\n",
              "<p>5 rows × 566 columns</p>\n",
              "</div>"
            ],
            "text/plain": [
              "  Province/State Country/Region       Lat  ...  8/3/21  8/4/21  8/5/21\n",
              "0            NaN    Afghanistan  33.93911  ...    6804    6836    6864\n",
              "1            NaN        Albania  41.15330  ...    2457    2457    2457\n",
              "2            NaN        Algeria  28.03390  ...    4370    4404    4441\n",
              "3            NaN        Andorra  42.50630  ...     128     128     128\n",
              "4            NaN         Angola -11.20270  ...    1022    1026    1032\n",
              "\n",
              "[5 rows x 566 columns]"
            ]
          },
          "metadata": {
            "tags": []
          },
          "execution_count": 2
        }
      ]
    },
    {
      "cell_type": "code",
      "metadata": {
        "colab": {
          "base_uri": "https://localhost:8080/"
        },
        "id": "UahujMnXFWPS",
        "outputId": "a42a3b6b-69ef-4355-cbe5-7f583dff4123"
      },
      "source": [
        "df_confirmed.shape"
      ],
      "execution_count": 3,
      "outputs": [
        {
          "output_type": "execute_result",
          "data": {
            "text/plain": [
              "(279, 566)"
            ]
          },
          "metadata": {
            "tags": []
          },
          "execution_count": 3
        }
      ]
    },
    {
      "cell_type": "code",
      "metadata": {
        "id": "d5o_ORKfFfqT"
      },
      "source": [
        "country=\"Tunisia\"\n",
        "#country=\"US\""
      ],
      "execution_count": 4,
      "outputs": []
    },
    {
      "cell_type": "code",
      "metadata": {
        "colab": {
          "base_uri": "https://localhost:8080/",
          "height": 129
        },
        "id": "UJHXMKXEFpRa",
        "outputId": "914b5170-71a2-40ee-bd23-b88fa206bb65"
      },
      "source": [
        "df_confirmed_country= df_confirmed[df_confirmed[\"Country/Region\"]==country]\n",
        "df_confirmed_country.head()"
      ],
      "execution_count": 5,
      "outputs": [
        {
          "output_type": "execute_result",
          "data": {
            "text/html": [
              "<div>\n",
              "<style scoped>\n",
              "    .dataframe tbody tr th:only-of-type {\n",
              "        vertical-align: middle;\n",
              "    }\n",
              "\n",
              "    .dataframe tbody tr th {\n",
              "        vertical-align: top;\n",
              "    }\n",
              "\n",
              "    .dataframe thead th {\n",
              "        text-align: right;\n",
              "    }\n",
              "</style>\n",
              "<table border=\"1\" class=\"dataframe\">\n",
              "  <thead>\n",
              "    <tr style=\"text-align: right;\">\n",
              "      <th></th>\n",
              "      <th>Province/State</th>\n",
              "      <th>Country/Region</th>\n",
              "      <th>Lat</th>\n",
              "      <th>Long</th>\n",
              "      <th>1/22/20</th>\n",
              "      <th>1/23/20</th>\n",
              "      <th>1/24/20</th>\n",
              "      <th>1/25/20</th>\n",
              "      <th>1/26/20</th>\n",
              "      <th>1/27/20</th>\n",
              "      <th>1/28/20</th>\n",
              "      <th>1/29/20</th>\n",
              "      <th>1/30/20</th>\n",
              "      <th>1/31/20</th>\n",
              "      <th>2/1/20</th>\n",
              "      <th>2/2/20</th>\n",
              "      <th>2/3/20</th>\n",
              "      <th>2/4/20</th>\n",
              "      <th>2/5/20</th>\n",
              "      <th>2/6/20</th>\n",
              "      <th>2/7/20</th>\n",
              "      <th>2/8/20</th>\n",
              "      <th>2/9/20</th>\n",
              "      <th>2/10/20</th>\n",
              "      <th>2/11/20</th>\n",
              "      <th>2/12/20</th>\n",
              "      <th>2/13/20</th>\n",
              "      <th>2/14/20</th>\n",
              "      <th>2/15/20</th>\n",
              "      <th>2/16/20</th>\n",
              "      <th>2/17/20</th>\n",
              "      <th>2/18/20</th>\n",
              "      <th>2/19/20</th>\n",
              "      <th>2/20/20</th>\n",
              "      <th>2/21/20</th>\n",
              "      <th>2/22/20</th>\n",
              "      <th>2/23/20</th>\n",
              "      <th>2/24/20</th>\n",
              "      <th>2/25/20</th>\n",
              "      <th>2/26/20</th>\n",
              "      <th>...</th>\n",
              "      <th>6/27/21</th>\n",
              "      <th>6/28/21</th>\n",
              "      <th>6/29/21</th>\n",
              "      <th>6/30/21</th>\n",
              "      <th>7/1/21</th>\n",
              "      <th>7/2/21</th>\n",
              "      <th>7/3/21</th>\n",
              "      <th>7/4/21</th>\n",
              "      <th>7/5/21</th>\n",
              "      <th>7/6/21</th>\n",
              "      <th>7/7/21</th>\n",
              "      <th>7/8/21</th>\n",
              "      <th>7/9/21</th>\n",
              "      <th>7/10/21</th>\n",
              "      <th>7/11/21</th>\n",
              "      <th>7/12/21</th>\n",
              "      <th>7/13/21</th>\n",
              "      <th>7/14/21</th>\n",
              "      <th>7/15/21</th>\n",
              "      <th>7/16/21</th>\n",
              "      <th>7/17/21</th>\n",
              "      <th>7/18/21</th>\n",
              "      <th>7/19/21</th>\n",
              "      <th>7/20/21</th>\n",
              "      <th>7/21/21</th>\n",
              "      <th>7/22/21</th>\n",
              "      <th>7/23/21</th>\n",
              "      <th>7/24/21</th>\n",
              "      <th>7/25/21</th>\n",
              "      <th>7/26/21</th>\n",
              "      <th>7/27/21</th>\n",
              "      <th>7/28/21</th>\n",
              "      <th>7/29/21</th>\n",
              "      <th>7/30/21</th>\n",
              "      <th>7/31/21</th>\n",
              "      <th>8/1/21</th>\n",
              "      <th>8/2/21</th>\n",
              "      <th>8/3/21</th>\n",
              "      <th>8/4/21</th>\n",
              "      <th>8/5/21</th>\n",
              "    </tr>\n",
              "  </thead>\n",
              "  <tbody>\n",
              "    <tr>\n",
              "      <th>252</th>\n",
              "      <td>NaN</td>\n",
              "      <td>Tunisia</td>\n",
              "      <td>33.886917</td>\n",
              "      <td>9.537499</td>\n",
              "      <td>0</td>\n",
              "      <td>0</td>\n",
              "      <td>0</td>\n",
              "      <td>0</td>\n",
              "      <td>0</td>\n",
              "      <td>0</td>\n",
              "      <td>0</td>\n",
              "      <td>0</td>\n",
              "      <td>0</td>\n",
              "      <td>0</td>\n",
              "      <td>0</td>\n",
              "      <td>0</td>\n",
              "      <td>0</td>\n",
              "      <td>0</td>\n",
              "      <td>0</td>\n",
              "      <td>0</td>\n",
              "      <td>0</td>\n",
              "      <td>0</td>\n",
              "      <td>0</td>\n",
              "      <td>0</td>\n",
              "      <td>0</td>\n",
              "      <td>0</td>\n",
              "      <td>0</td>\n",
              "      <td>0</td>\n",
              "      <td>0</td>\n",
              "      <td>0</td>\n",
              "      <td>0</td>\n",
              "      <td>0</td>\n",
              "      <td>0</td>\n",
              "      <td>0</td>\n",
              "      <td>0</td>\n",
              "      <td>0</td>\n",
              "      <td>0</td>\n",
              "      <td>0</td>\n",
              "      <td>0</td>\n",
              "      <td>0</td>\n",
              "      <td>...</td>\n",
              "      <td>14654</td>\n",
              "      <td>14737</td>\n",
              "      <td>14843</td>\n",
              "      <td>14959</td>\n",
              "      <td>15065</td>\n",
              "      <td>15179</td>\n",
              "      <td>15261</td>\n",
              "      <td>15377</td>\n",
              "      <td>15482</td>\n",
              "      <td>15601</td>\n",
              "      <td>15735</td>\n",
              "      <td>15861</td>\n",
              "      <td>16050</td>\n",
              "      <td>16244</td>\n",
              "      <td>16388</td>\n",
              "      <td>16494</td>\n",
              "      <td>16651</td>\n",
              "      <td>16845</td>\n",
              "      <td>17009</td>\n",
              "      <td>17214</td>\n",
              "      <td>17354</td>\n",
              "      <td>17527</td>\n",
              "      <td>17644</td>\n",
              "      <td>17821</td>\n",
              "      <td>17913</td>\n",
              "      <td>18052</td>\n",
              "      <td>18052</td>\n",
              "      <td>18369</td>\n",
              "      <td>18600</td>\n",
              "      <td>18804</td>\n",
              "      <td>18968</td>\n",
              "      <td>19027</td>\n",
              "      <td>19336</td>\n",
              "      <td>19503</td>\n",
              "      <td>19686</td>\n",
              "      <td>20067</td>\n",
              "      <td>20226</td>\n",
              "      <td>20226</td>\n",
              "      <td>20550</td>\n",
              "      <td>20550</td>\n",
              "    </tr>\n",
              "  </tbody>\n",
              "</table>\n",
              "<p>1 rows × 566 columns</p>\n",
              "</div>"
            ],
            "text/plain": [
              "    Province/State Country/Region        Lat  ...  8/3/21  8/4/21  8/5/21\n",
              "252            NaN        Tunisia  33.886917  ...   20226   20550   20550\n",
              "\n",
              "[1 rows x 566 columns]"
            ]
          },
          "metadata": {
            "tags": []
          },
          "execution_count": 5
        }
      ]
    },
    {
      "cell_type": "code",
      "metadata": {
        "colab": {
          "base_uri": "https://localhost:8080/"
        },
        "id": "-Aty4IAVFwUT",
        "outputId": "67d1dbd4-e457-40bc-afa9-d6e812238e65"
      },
      "source": [
        "df_confirmed_country.shape"
      ],
      "execution_count": 6,
      "outputs": [
        {
          "output_type": "execute_result",
          "data": {
            "text/plain": [
              "(1, 566)"
            ]
          },
          "metadata": {
            "tags": []
          },
          "execution_count": 6
        }
      ]
    },
    {
      "cell_type": "code",
      "metadata": {
        "id": "MJ34D_sZFzw5"
      },
      "source": [
        "df_confirmed_country=pd.DataFrame(df_confirmed_country[df_confirmed_country.columns[4:]].sum(),columns=[\"confirmed\"])"
      ],
      "execution_count": 7,
      "outputs": []
    },
    {
      "cell_type": "code",
      "metadata": {
        "colab": {
          "base_uri": "https://localhost:8080/"
        },
        "id": "GRs9crz1F7Pb",
        "outputId": "f614cdac-5a4c-4a9d-a481-730aab9fc06d"
      },
      "source": [
        "df_confirmed_country.shape"
      ],
      "execution_count": 8,
      "outputs": [
        {
          "output_type": "execute_result",
          "data": {
            "text/plain": [
              "(562, 1)"
            ]
          },
          "metadata": {
            "tags": []
          },
          "execution_count": 8
        }
      ]
    },
    {
      "cell_type": "code",
      "metadata": {
        "colab": {
          "base_uri": "https://localhost:8080/",
          "height": 204
        },
        "id": "2lYEEFqsGAOl",
        "outputId": "d8ad886d-446b-450d-f5b2-683164b6afca"
      },
      "source": [
        "df_confirmed_country.head()"
      ],
      "execution_count": 9,
      "outputs": [
        {
          "output_type": "execute_result",
          "data": {
            "text/html": [
              "<div>\n",
              "<style scoped>\n",
              "    .dataframe tbody tr th:only-of-type {\n",
              "        vertical-align: middle;\n",
              "    }\n",
              "\n",
              "    .dataframe tbody tr th {\n",
              "        vertical-align: top;\n",
              "    }\n",
              "\n",
              "    .dataframe thead th {\n",
              "        text-align: right;\n",
              "    }\n",
              "</style>\n",
              "<table border=\"1\" class=\"dataframe\">\n",
              "  <thead>\n",
              "    <tr style=\"text-align: right;\">\n",
              "      <th></th>\n",
              "      <th>confirmed</th>\n",
              "    </tr>\n",
              "  </thead>\n",
              "  <tbody>\n",
              "    <tr>\n",
              "      <th>1/22/20</th>\n",
              "      <td>0</td>\n",
              "    </tr>\n",
              "    <tr>\n",
              "      <th>1/23/20</th>\n",
              "      <td>0</td>\n",
              "    </tr>\n",
              "    <tr>\n",
              "      <th>1/24/20</th>\n",
              "      <td>0</td>\n",
              "    </tr>\n",
              "    <tr>\n",
              "      <th>1/25/20</th>\n",
              "      <td>0</td>\n",
              "    </tr>\n",
              "    <tr>\n",
              "      <th>1/26/20</th>\n",
              "      <td>0</td>\n",
              "    </tr>\n",
              "  </tbody>\n",
              "</table>\n",
              "</div>"
            ],
            "text/plain": [
              "         confirmed\n",
              "1/22/20          0\n",
              "1/23/20          0\n",
              "1/24/20          0\n",
              "1/25/20          0\n",
              "1/26/20          0"
            ]
          },
          "metadata": {
            "tags": []
          },
          "execution_count": 9
        }
      ]
    },
    {
      "cell_type": "code",
      "metadata": {
        "id": "_lOzrvbgGJy3"
      },
      "source": [
        "df_confirmed_country.index = pd.to_datetime(df_confirmed_country.index,format='%m/%d/%y')"
      ],
      "execution_count": 10,
      "outputs": []
    },
    {
      "cell_type": "code",
      "metadata": {
        "colab": {
          "base_uri": "https://localhost:8080/",
          "height": 364
        },
        "id": "BkO8GnRlGLlr",
        "outputId": "d4ddf2e4-a682-43e6-d92d-0b500fb7a611"
      },
      "source": [
        "df_confirmed_country.plot(figsize=(12,5),title='confirmed Death')"
      ],
      "execution_count": 11,
      "outputs": [
        {
          "output_type": "execute_result",
          "data": {
            "text/plain": [
              "<matplotlib.axes._subplots.AxesSubplot at 0x7fa6a344c790>"
            ]
          },
          "metadata": {
            "tags": []
          },
          "execution_count": 11
        },
        {
          "output_type": "display_data",
          "data": {
            "image/png": "[encoded data removed]",
            "text/plain": [
              "<Figure size 864x360 with 1 Axes>"
            ]
          },
          "metadata": {
            "tags": [],
            "needs_background": "light"
          }
        }
      ]
    },
    {
      "cell_type": "code",
      "metadata": {
        "colab": {
          "base_uri": "https://localhost:8080/",
          "height": 359
        },
        "id": "_y1UoLUuGYdi",
        "outputId": "08c8d3dd-cad2-4916-a870-317eed60d31f"
      },
      "source": [
        "df_confirmed_country.tail(10)"
      ],
      "execution_count": 12,
      "outputs": [
        {
          "output_type": "execute_result",
          "data": {
            "text/html": [
              "<div>\n",
              "<style scoped>\n",
              "    .dataframe tbody tr th:only-of-type {\n",
              "        vertical-align: middle;\n",
              "    }\n",
              "\n",
              "    .dataframe tbody tr th {\n",
              "        vertical-align: top;\n",
              "    }\n",
              "\n",
              "    .dataframe thead th {\n",
              "        text-align: right;\n",
              "    }\n",
              "</style>\n",
              "<table border=\"1\" class=\"dataframe\">\n",
              "  <thead>\n",
              "    <tr style=\"text-align: right;\">\n",
              "      <th></th>\n",
              "      <th>confirmed</th>\n",
              "    </tr>\n",
              "  </thead>\n",
              "  <tbody>\n",
              "    <tr>\n",
              "      <th>2021-07-27</th>\n",
              "      <td>18968</td>\n",
              "    </tr>\n",
              "    <tr>\n",
              "      <th>2021-07-28</th>\n",
              "      <td>19027</td>\n",
              "    </tr>\n",
              "    <tr>\n",
              "      <th>2021-07-29</th>\n",
              "      <td>19336</td>\n",
              "    </tr>\n",
              "    <tr>\n",
              "      <th>2021-07-30</th>\n",
              "      <td>19503</td>\n",
              "    </tr>\n",
              "    <tr>\n",
              "      <th>2021-07-31</th>\n",
              "      <td>19686</td>\n",
              "    </tr>\n",
              "    <tr>\n",
              "      <th>2021-08-01</th>\n",
              "      <td>20067</td>\n",
              "    </tr>\n",
              "    <tr>\n",
              "      <th>2021-08-02</th>\n",
              "      <td>20226</td>\n",
              "    </tr>\n",
              "    <tr>\n",
              "      <th>2021-08-03</th>\n",
              "      <td>20226</td>\n",
              "    </tr>\n",
              "    <tr>\n",
              "      <th>2021-08-04</th>\n",
              "      <td>20550</td>\n",
              "    </tr>\n",
              "    <tr>\n",
              "      <th>2021-08-05</th>\n",
              "      <td>20550</td>\n",
              "    </tr>\n",
              "  </tbody>\n",
              "</table>\n",
              "</div>"
            ],
            "text/plain": [
              "            confirmed\n",
              "2021-07-27      18968\n",
              "2021-07-28      19027\n",
              "2021-07-29      19336\n",
              "2021-07-30      19503\n",
              "2021-07-31      19686\n",
              "2021-08-01      20067\n",
              "2021-08-02      20226\n",
              "2021-08-03      20226\n",
              "2021-08-04      20550\n",
              "2021-08-05      20550"
            ]
          },
          "metadata": {
            "tags": []
          },
          "execution_count": 12
        }
      ]
    },
    {
      "cell_type": "code",
      "metadata": {
        "colab": {
          "base_uri": "https://localhost:8080/"
        },
        "id": "lkOFCf3iGk6P",
        "outputId": "df3b5805-d61f-4203-fda6-1bc8155d8c5e"
      },
      "source": [
        "print('Total days in the dataSet',len(df_confirmed_country))"
      ],
      "execution_count": 13,
      "outputs": [
        {
          "output_type": "stream",
          "text": [
            "Total days in the dataSet 562\n"
          ],
          "name": "stdout"
        }
      ]
    },
    {
      "cell_type": "code",
      "metadata": {
        "id": "g2_b2swbGq9Z"
      },
      "source": [
        "x = len(df_confirmed_country)-14"
      ],
      "execution_count": 14,
      "outputs": []
    },
    {
      "cell_type": "code",
      "metadata": {
        "id": "dzrPcKpUGyJN"
      },
      "source": [
        "train = df_confirmed_country.iloc[:x]\n",
        "test = df_confirmed_country.iloc[x:]"
      ],
      "execution_count": 15,
      "outputs": []
    },
    {
      "cell_type": "code",
      "metadata": {
        "id": "Bc9Ud6WxG2XS"
      },
      "source": [
        "from sklearn.preprocessing import MinMaxScaler"
      ],
      "execution_count": 16,
      "outputs": []
    },
    {
      "cell_type": "code",
      "metadata": {
        "colab": {
          "base_uri": "https://localhost:8080/"
        },
        "id": "ZZc95OcwG4bP",
        "outputId": "14317495-688b-4bd3-955b-e60ca0278e35"
      },
      "source": [
        "scaler = MinMaxScaler()\n",
        "scaler.fit(train)"
      ],
      "execution_count": 17,
      "outputs": [
        {
          "output_type": "execute_result",
          "data": {
            "text/plain": [
              "MinMaxScaler(copy=True, feature_range=(0, 1))"
            ]
          },
          "metadata": {
            "tags": []
          },
          "execution_count": 17
        }
      ]
    },
    {
      "cell_type": "code",
      "metadata": {
        "id": "jGRAFvK-HBDs"
      },
      "source": [
        "train_scaled = scaler.transform(train)\n",
        "test_scaled = scaler.transform(test)"
      ],
      "execution_count": 18,
      "outputs": []
    },
    {
      "cell_type": "code",
      "metadata": {
        "id": "-upqMlgaHFKK"
      },
      "source": [
        "from keras.preprocessing.sequence import TimeseriesGenerator"
      ],
      "execution_count": 19,
      "outputs": []
    },
    {
      "cell_type": "code",
      "metadata": {
        "id": "DB0uvUNmHLW-"
      },
      "source": [
        "seq_size = 7 # 7 days\n",
        "n_features = 1\n",
        "train_generator = TimeseriesGenerator(train_scaled,train_scaled,length=seq_size,batch_size=1)"
      ],
      "execution_count": 20,
      "outputs": []
    },
    {
      "cell_type": "code",
      "metadata": {
        "colab": {
          "base_uri": "https://localhost:8080/"
        },
        "id": "zmMASrk7HTUJ",
        "outputId": "873f34c9-04d7-4f61-d8cd-7e4bf5d84e8c"
      },
      "source": [
        "print(\"Total number of samples in the original training data = \", len(train)) # 548\n",
        "print(\"Total number of samples in the generated data = \", len(train_generator)) # 541 with seq_size=7"
      ],
      "execution_count": 22,
      "outputs": [
        {
          "output_type": "stream",
          "text": [
            "Total number of samples in the original training data =  548\n",
            "Total number of samples in the generated data =  541\n"
          ],
          "name": "stdout"
        }
      ]
    },
    {
      "cell_type": "code",
      "metadata": {
        "id": "7Xtoe1OJHatw"
      },
      "source": [
        "x,y = train_generator[10]"
      ],
      "execution_count": 23,
      "outputs": []
    },
    {
      "cell_type": "code",
      "metadata": {
        "colab": {
          "base_uri": "https://localhost:8080/"
        },
        "id": "NOnPbV2uHei7",
        "outputId": "6a5ad20d-c737-4550-e481-dc73375f7e9d"
      },
      "source": [
        "x.shape"
      ],
      "execution_count": 24,
      "outputs": [
        {
          "output_type": "execute_result",
          "data": {
            "text/plain": [
              "(1, 7, 1)"
            ]
          },
          "metadata": {
            "tags": []
          },
          "execution_count": 24
        }
      ]
    },
    {
      "cell_type": "code",
      "metadata": {
        "colab": {
          "base_uri": "https://localhost:8080/"
        },
        "id": "gNJ225jyHiON",
        "outputId": "5871ace6-b3b2-468e-c24b-6568ecdde706"
      },
      "source": [
        "y.shape"
      ],
      "execution_count": 25,
      "outputs": [
        {
          "output_type": "execute_result",
          "data": {
            "text/plain": [
              "(1, 1)"
            ]
          },
          "metadata": {
            "tags": []
          },
          "execution_count": 25
        }
      ]
    },
    {
      "cell_type": "code",
      "metadata": {
        "colab": {
          "base_uri": "https://localhost:8080/"
        },
        "id": "LAvQuHhEHnDm",
        "outputId": "8bef99cd-265d-4051-b46c-959289953f62"
      },
      "source": [
        "test_generator = TimeseriesGenerator(test_scaled, test_scaled, length=seq_size, batch_size=1)\n",
        "print(\"Total number of samples in the original training data = \", len(test)) # 14 as we're using last 14 days for test\n",
        "print(\"Total number of samples in the generated data = \", len(test_generator)) # 7"
      ],
      "execution_count": 26,
      "outputs": [
        {
          "output_type": "stream",
          "text": [
            "Total number of samples in the original training data =  14\n",
            "Total number of samples in the generated data =  7\n"
          ],
          "name": "stdout"
        }
      ]
    },
    {
      "cell_type": "code",
      "metadata": {
        "id": "3Jwrw2IQHtIJ"
      },
      "source": [
        "x,y = test_generator[0]"
      ],
      "execution_count": 27,
      "outputs": []
    },
    {
      "cell_type": "markdown",
      "metadata": {
        "id": "5XFo03j4HxRS"
      },
      "source": [
        "#Model"
      ]
    },
    {
      "cell_type": "code",
      "metadata": {
        "id": "z5rqZaFGHyPT"
      },
      "source": [
        "from keras.models import Sequential\n",
        "from keras.layers import Dense,LSTM,Dropout,Activation"
      ],
      "execution_count": 28,
      "outputs": []
    },
    {
      "cell_type": "code",
      "metadata": {
        "colab": {
          "base_uri": "https://localhost:8080/"
        },
        "id": "nIQ_w0pkH2qU",
        "outputId": "d50a8d19-d228-4788-c226-7b5c7bfce37e"
      },
      "source": [
        "model =Sequential()\n",
        "model.add(LSTM(150,activation='relu',return_sequences=True,input_shape=(seq_size,n_features)))\n",
        "model.add(LSTM(64,activation='relu'))\n",
        "model.add(Dense(64))\n",
        "model.add(Dense(1))"
      ],
      "execution_count": 29,
      "outputs": [
        {
          "output_type": "stream",
          "text": [
            "WARNING:tensorflow:Layer lstm will not use cuDNN kernels since it doesn't meet the criteria. It will use a generic GPU kernel as fallback when running on GPU.\n",
            "WARNING:tensorflow:Layer lstm_1 will not use cuDNN kernels since it doesn't meet the criteria. It will use a generic GPU kernel as fallback when running on GPU.\n"
          ],
          "name": "stdout"
        }
      ]
    },
    {
      "cell_type": "code",
      "metadata": {
        "colab": {
          "base_uri": "https://localhost:8080/"
        },
        "id": "EAIf-zHKIA_Y",
        "outputId": "c0280a90-9036-4bcf-b484-2bd5b7567478"
      },
      "source": [
        "model.summary()"
      ],
      "execution_count": 30,
      "outputs": [
        {
          "output_type": "stream",
          "text": [
            "Model: \"sequential\"\n",
            "_________________________________________________________________\n",
            "Layer (type)                 Output Shape              Param #   \n",
            "=================================================================\n",
            "lstm (LSTM)                  (None, 7, 150)            91200     \n",
            "_________________________________________________________________\n",
            "lstm_1 (LSTM)                (None, 64)                55040     \n",
            "_________________________________________________________________\n",
            "dense (Dense)                (None, 64)                4160      \n",
            "_________________________________________________________________\n",
            "dense_1 (Dense)              (None, 1)                 65        \n",
            "=================================================================\n",
            "Total params: 150,465\n",
            "Trainable params: 150,465\n",
            "Non-trainable params: 0\n",
            "_________________________________________________________________\n"
          ],
          "name": "stdout"
        }
      ]
    },
    {
      "cell_type": "code",
      "metadata": {
        "id": "C5m6vZZ6IEvu"
      },
      "source": [
        "model.compile(optimizer='adam', loss='mean_squared_error',metrics=['accuracy'])"
      ],
      "execution_count": 31,
      "outputs": []
    },
    {
      "cell_type": "code",
      "metadata": {
        "colab": {
          "base_uri": "https://localhost:8080/"
        },
        "id": "5pAg1Jc1IIz-",
        "outputId": "03ff3f75-0e5c-4afa-b6ef-091833192e83"
      },
      "source": [
        "history = model.fit_generator(train_generator,validation_data=test_generator,epochs=50,steps_per_epoch=10)"
      ],
      "execution_count": 32,
      "outputs": [
        {
          "output_type": "stream",
          "text": [
            "/usr/local/lib/python3.7/dist-packages/keras/engine/training.py:1915: UserWarning: `Model.fit_generator` is deprecated and will be removed in a future version. Please use `Model.fit`, which supports generators.\n",
            "  warnings.warn('`Model.fit_generator` is deprecated and '\n"
          ],
          "name": "stderr"
        },
        {
          "output_type": "stream",
          "text": [
            "Epoch 1/50\n",
            "10/10 [==============================] - 25s 138ms/step - loss: 0.1457 - accuracy: 0.0000e+00 - val_loss: 0.6286 - val_accuracy: 0.0000e+00\n",
            "Epoch 2/50\n",
            "10/10 [==============================] - 0s 30ms/step - loss: 0.1314 - accuracy: 0.0000e+00 - val_loss: 0.0384 - val_accuracy: 0.0000e+00\n",
            "Epoch 3/50\n",
            "10/10 [==============================] - 0s 31ms/step - loss: 0.0291 - accuracy: 0.1041 - val_loss: 0.0549 - val_accuracy: 0.0000e+00\n",
            "Epoch 4/50\n",
            "10/10 [==============================] - 0s 30ms/step - loss: 0.0194 - accuracy: 0.0000e+00 - val_loss: 0.0060 - val_accuracy: 0.0000e+00\n",
            "Epoch 5/50\n",
            "10/10 [==============================] - 0s 31ms/step - loss: 0.0033 - accuracy: 0.0396 - val_loss: 0.1165 - val_accuracy: 0.0000e+00\n",
            "Epoch 6/50\n",
            "10/10 [==============================] - 0s 36ms/step - loss: 0.0014 - accuracy: 0.2754 - val_loss: 0.1644 - val_accuracy: 0.0000e+00\n",
            "Epoch 7/50\n",
            "10/10 [==============================] - 0s 33ms/step - loss: 0.0053 - accuracy: 0.0860 - val_loss: 0.0123 - val_accuracy: 0.0000e+00\n",
            "Epoch 8/50\n",
            "10/10 [==============================] - 0s 33ms/step - loss: 0.0033 - accuracy: 0.0860 - val_loss: 0.0036 - val_accuracy: 0.0000e+00\n",
            "Epoch 9/50\n",
            "10/10 [==============================] - 0s 34ms/step - loss: 0.0028 - accuracy: 0.0000e+00 - val_loss: 0.0102 - val_accuracy: 0.0000e+00\n",
            "Epoch 10/50\n",
            "10/10 [==============================] - 0s 30ms/step - loss: 0.0019 - accuracy: 0.1845 - val_loss: 4.4604e-04 - val_accuracy: 0.0000e+00\n",
            "Epoch 11/50\n",
            "10/10 [==============================] - 0s 31ms/step - loss: 3.6353e-04 - accuracy: 0.1390 - val_loss: 0.0011 - val_accuracy: 0.0000e+00\n",
            "Epoch 12/50\n",
            "10/10 [==============================] - 0s 32ms/step - loss: 3.1293e-04 - accuracy: 0.1386 - val_loss: 0.0026 - val_accuracy: 0.0000e+00\n",
            "Epoch 13/50\n",
            "10/10 [==============================] - 0s 33ms/step - loss: 1.7382e-04 - accuracy: 0.1041 - val_loss: 0.0060 - val_accuracy: 0.0000e+00\n",
            "Epoch 14/50\n",
            "10/10 [==============================] - 0s 33ms/step - loss: 5.2795e-04 - accuracy: 0.1087 - val_loss: 0.0012 - val_accuracy: 0.0000e+00\n",
            "Epoch 15/50\n",
            "10/10 [==============================] - 0s 34ms/step - loss: 1.3936e-04 - accuracy: 0.0000e+00 - val_loss: 0.0025 - val_accuracy: 0.0000e+00\n",
            "Epoch 16/50\n",
            "10/10 [==============================] - 0s 34ms/step - loss: 2.8050e-04 - accuracy: 0.0000e+00 - val_loss: 9.7945e-05 - val_accuracy: 0.0000e+00\n",
            "Epoch 17/50\n",
            "10/10 [==============================] - 0s 32ms/step - loss: 3.5511e-05 - accuracy: 0.1087 - val_loss: 0.0014 - val_accuracy: 0.0000e+00\n",
            "Epoch 18/50\n",
            "10/10 [==============================] - 0s 29ms/step - loss: 8.5620e-05 - accuracy: 0.0182 - val_loss: 8.6983e-05 - val_accuracy: 0.0000e+00\n",
            "Epoch 19/50\n",
            "10/10 [==============================] - 0s 31ms/step - loss: 9.4344e-05 - accuracy: 0.2873 - val_loss: 8.8640e-04 - val_accuracy: 0.0000e+00\n",
            "Epoch 20/50\n",
            "10/10 [==============================] - 0s 32ms/step - loss: 3.3875e-05 - accuracy: 0.0000e+00 - val_loss: 6.1181e-04 - val_accuracy: 0.0000e+00\n",
            "Epoch 21/50\n",
            "10/10 [==============================] - 0s 33ms/step - loss: 2.0596e-05 - accuracy: 0.0000e+00 - val_loss: 7.8643e-04 - val_accuracy: 0.0000e+00\n",
            "Epoch 22/50\n",
            "10/10 [==============================] - 0s 30ms/step - loss: 8.0155e-06 - accuracy: 0.0526 - val_loss: 0.0015 - val_accuracy: 0.0000e+00\n",
            "Epoch 23/50\n",
            "10/10 [==============================] - 0s 28ms/step - loss: 4.7960e-05 - accuracy: 0.0000e+00 - val_loss: 7.3898e-04 - val_accuracy: 0.0000e+00\n",
            "Epoch 24/50\n",
            "10/10 [==============================] - 0s 31ms/step - loss: 1.9730e-05 - accuracy: 0.0678 - val_loss: 1.5915e-04 - val_accuracy: 0.0000e+00\n",
            "Epoch 25/50\n",
            "10/10 [==============================] - 0s 30ms/step - loss: 1.6306e-04 - accuracy: 0.1256 - val_loss: 0.0014 - val_accuracy: 0.0000e+00\n",
            "Epoch 26/50\n",
            "10/10 [==============================] - 0s 34ms/step - loss: 1.6731e-04 - accuracy: 0.0860 - val_loss: 0.0015 - val_accuracy: 0.0000e+00\n",
            "Epoch 27/50\n",
            "10/10 [==============================] - 0s 31ms/step - loss: 2.0646e-04 - accuracy: 0.2371 - val_loss: 0.0038 - val_accuracy: 0.0000e+00\n",
            "Epoch 28/50\n",
            "10/10 [==============================] - 0s 30ms/step - loss: 1.9387e-04 - accuracy: 0.1947 - val_loss: 0.0041 - val_accuracy: 0.0000e+00\n",
            "Epoch 29/50\n",
            "10/10 [==============================] - 0s 30ms/step - loss: 1.2882e-04 - accuracy: 0.1390 - val_loss: 0.0012 - val_accuracy: 0.0000e+00\n",
            "Epoch 30/50\n",
            "10/10 [==============================] - 0s 33ms/step - loss: 8.7823e-05 - accuracy: 0.0000e+00 - val_loss: 0.0073 - val_accuracy: 0.0000e+00\n",
            "Epoch 31/50\n",
            "10/10 [==============================] - 0s 32ms/step - loss: 5.7639e-05 - accuracy: 0.3231 - val_loss: 0.0032 - val_accuracy: 0.0000e+00\n",
            "Epoch 32/50\n",
            "10/10 [==============================] - 0s 30ms/step - loss: 6.1048e-05 - accuracy: 0.0000e+00 - val_loss: 0.0048 - val_accuracy: 0.0000e+00\n",
            "Epoch 33/50\n",
            "10/10 [==============================] - 0s 31ms/step - loss: 1.0706e-04 - accuracy: 0.1390 - val_loss: 4.7971e-04 - val_accuracy: 0.0000e+00\n",
            "Epoch 34/50\n",
            "10/10 [==============================] - 0s 30ms/step - loss: 5.7304e-05 - accuracy: 0.0000e+00 - val_loss: 8.1583e-04 - val_accuracy: 0.0000e+00\n",
            "Epoch 35/50\n",
            "10/10 [==============================] - 0s 30ms/step - loss: 5.9070e-05 - accuracy: 0.0000e+00 - val_loss: 0.0016 - val_accuracy: 0.0000e+00\n",
            "Epoch 36/50\n",
            "10/10 [==============================] - 0s 29ms/step - loss: 2.5751e-05 - accuracy: 0.0000e+00 - val_loss: 0.0020 - val_accuracy: 0.0000e+00\n",
            "Epoch 37/50\n",
            "10/10 [==============================] - 0s 33ms/step - loss: 1.4933e-05 - accuracy: 0.0678 - val_loss: 0.0023 - val_accuracy: 0.0000e+00\n",
            "Epoch 38/50\n",
            "10/10 [==============================] - 0s 31ms/step - loss: 6.1676e-05 - accuracy: 0.0000e+00 - val_loss: 0.0029 - val_accuracy: 0.0000e+00\n",
            "Epoch 39/50\n",
            "10/10 [==============================] - 0s 34ms/step - loss: 1.6214e-04 - accuracy: 0.0000e+00 - val_loss: 9.4260e-04 - val_accuracy: 0.0000e+00\n",
            "Epoch 40/50\n",
            "10/10 [==============================] - 0s 30ms/step - loss: 3.2182e-05 - accuracy: 0.3841 - val_loss: 0.0014 - val_accuracy: 0.0000e+00\n",
            "Epoch 41/50\n",
            "10/10 [==============================] - 0s 33ms/step - loss: 2.4117e-05 - accuracy: 0.2754 - val_loss: 7.6934e-04 - val_accuracy: 0.0000e+00\n",
            "Epoch 42/50\n",
            "10/10 [==============================] - 0s 35ms/step - loss: 3.5600e-05 - accuracy: 0.1390 - val_loss: 0.0013 - val_accuracy: 0.0000e+00\n",
            "Epoch 43/50\n",
            "10/10 [==============================] - 0s 30ms/step - loss: 2.1710e-05 - accuracy: 0.2477 - val_loss: 8.7849e-04 - val_accuracy: 0.0000e+00\n",
            "Epoch 44/50\n",
            "10/10 [==============================] - 0s 29ms/step - loss: 1.6170e-05 - accuracy: 0.1845 - val_loss: 0.0020 - val_accuracy: 0.0000e+00\n",
            "Epoch 45/50\n",
            "10/10 [==============================] - 0s 32ms/step - loss: 7.8189e-05 - accuracy: 0.0526 - val_loss: 8.8180e-05 - val_accuracy: 0.0000e+00\n",
            "Epoch 46/50\n",
            "10/10 [==============================] - 0s 30ms/step - loss: 1.5817e-04 - accuracy: 0.0000e+00 - val_loss: 0.0011 - val_accuracy: 0.0000e+00\n",
            "Epoch 47/50\n",
            "10/10 [==============================] - 0s 33ms/step - loss: 1.1052e-04 - accuracy: 0.0000e+00 - val_loss: 0.0056 - val_accuracy: 0.0000e+00\n",
            "Epoch 48/50\n",
            "10/10 [==============================] - 0s 33ms/step - loss: 3.6875e-04 - accuracy: 0.0860 - val_loss: 1.6385e-04 - val_accuracy: 0.0000e+00\n",
            "Epoch 49/50\n",
            "10/10 [==============================] - 0s 32ms/step - loss: 6.5214e-05 - accuracy: 0.3328 - val_loss: 1.4919e-04 - val_accuracy: 0.0000e+00\n",
            "Epoch 50/50\n",
            "10/10 [==============================] - 0s 31ms/step - loss: 2.6579e-05 - accuracy: 0.0000e+00 - val_loss: 0.0027 - val_accuracy: 0.0000e+00\n"
          ],
          "name": "stdout"
        }
      ]
    },
    {
      "cell_type": "code",
      "metadata": {
        "colab": {
          "base_uri": "https://localhost:8080/",
          "height": 295
        },
        "id": "M-cEmiQaIc1t",
        "outputId": "1eda9cf5-1091-4072-e660-497b8bbfe138"
      },
      "source": [
        "loss = history.history['loss']\n",
        "val_loss = history.history['val_loss']\n",
        "epochs = range(1, len(loss) + 1)\n",
        "plt.plot(epochs, loss, 'y', label='Training loss')\n",
        "plt.plot(epochs, val_loss, 'r', label='Validation loss')\n",
        "plt.title('Training and validation loss')\n",
        "plt.xlabel('Epochs')\n",
        "plt.ylabel('Loss')\n",
        "plt.legend()\n",
        "plt.show()"
      ],
      "execution_count": 33,
      "outputs": [
        {
          "output_type": "display_data",
          "data": {
            "image/png": "[encoded data removed]",
            "text/plain": [
              "<Figure size 432x288 with 1 Axes>"
            ]
          },
          "metadata": {
            "tags": [],
            "needs_background": "light"
          }
        }
      ]
    },
    {
      "cell_type": "markdown",
      "metadata": {
        "id": "Al_62OmbIj2g"
      },
      "source": [
        "#Prediction"
      ]
    },
    {
      "cell_type": "code",
      "metadata": {
        "id": "Vokr9NDVIlCm"
      },
      "source": [
        "predictions = []"
      ],
      "execution_count": 35,
      "outputs": []
    },
    {
      "cell_type": "code",
      "metadata": {
        "id": "XpKmOL3RIpDP"
      },
      "source": [
        "current_batch = train_scaled[-seq_size:]\n",
        "current_batch = current_batch.reshape(1, seq_size, n_features) #Reshape"
      ],
      "execution_count": 36,
      "outputs": []
    },
    {
      "cell_type": "code",
      "metadata": {
        "id": "5m3O_h8JIu3Z"
      },
      "source": [
        "future = 7"
      ],
      "execution_count": 37,
      "outputs": []
    },
    {
      "cell_type": "code",
      "metadata": {
        "id": "DRm2NBodIvDu"
      },
      "source": [
        "for i in range(len(test)+future):\n",
        "  current_pred  = model.predict(current_batch)[0]\n",
        "  predictions.append(current_pred)\n",
        "  current_batch = np.append(current_batch[:,1:,:],[[current_pred]],axis=1)"
      ],
      "execution_count": 38,
      "outputs": []
    },
    {
      "cell_type": "code",
      "metadata": {
        "id": "pbMjiLEYI4Tc"
      },
      "source": [
        "rescaled_predictions = scaler.inverse_transform(predictions)"
      ],
      "execution_count": 39,
      "outputs": []
    },
    {
      "cell_type": "code",
      "metadata": {
        "colab": {
          "base_uri": "https://localhost:8080/"
        },
        "id": "xUi5TtTkI8li",
        "outputId": "899a036a-e6e6-4f37-899d-b99cbd16ade1"
      },
      "source": [
        "rescaled_predictions"
      ],
      "execution_count": 40,
      "outputs": [
        {
          "output_type": "execute_result",
          "data": {
            "text/plain": [
              "array([[18966.0562067 ],\n",
              "       [19200.65279055],\n",
              "       [19484.03659773],\n",
              "       [19805.34019947],\n",
              "       [20179.79305983],\n",
              "       [20598.87339306],\n",
              "       [21089.28494644],\n",
              "       [21651.26013231],\n",
              "       [22111.99607325],\n",
              "       [22632.98706484],\n",
              "       [23210.56185293],\n",
              "       [23846.18162251],\n",
              "       [24538.79191017],\n",
              "       [25290.71899128],\n",
              "       [26098.55845547],\n",
              "       [26960.75443125],\n",
              "       [27923.01252651],\n",
              "       [28992.89690208],\n",
              "       [30184.81712294],\n",
              "       [31517.16389132],\n",
              "       [33015.65965796]])"
            ]
          },
          "metadata": {
            "tags": []
          },
          "execution_count": 40
        }
      ]
    },
    {
      "cell_type": "code",
      "metadata": {
        "id": "J-0g0nEcJFJ8"
      },
      "source": [
        "time_series_array = test.index"
      ],
      "execution_count": 41,
      "outputs": []
    },
    {
      "cell_type": "code",
      "metadata": {
        "id": "2NeGarFJJJRO"
      },
      "source": [
        "for k in range(0,future):\n",
        "  time_series_array = time_series_array.append(time_series_array[-1:] + pd.DateOffset(1))"
      ],
      "execution_count": 42,
      "outputs": []
    },
    {
      "cell_type": "code",
      "metadata": {
        "id": "2vqsXooMJOAH"
      },
      "source": [
        "df_forecast = pd.DataFrame(columns=[\"actual_confirmed_Death\",\"predicted\"], index=time_series_array)"
      ],
      "execution_count": 43,
      "outputs": []
    },
    {
      "cell_type": "code",
      "metadata": {
        "colab": {
          "base_uri": "https://localhost:8080/",
          "height": 514
        },
        "id": "OcSJZ5xvMKlO",
        "outputId": "5303bef2-901a-485d-bc8f-5ea17b84995e"
      },
      "source": [
        "df_forecast.tail(15)"
      ],
      "execution_count": 46,
      "outputs": [
        {
          "output_type": "execute_result",
          "data": {
            "text/html": [
              "<div>\n",
              "<style scoped>\n",
              "    .dataframe tbody tr th:only-of-type {\n",
              "        vertical-align: middle;\n",
              "    }\n",
              "\n",
              "    .dataframe tbody tr th {\n",
              "        vertical-align: top;\n",
              "    }\n",
              "\n",
              "    .dataframe thead th {\n",
              "        text-align: right;\n",
              "    }\n",
              "</style>\n",
              "<table border=\"1\" class=\"dataframe\">\n",
              "  <thead>\n",
              "    <tr style=\"text-align: right;\">\n",
              "      <th></th>\n",
              "      <th>actual_confirmed_Death</th>\n",
              "      <th>predicted</th>\n",
              "    </tr>\n",
              "  </thead>\n",
              "  <tbody>\n",
              "    <tr>\n",
              "      <th>2021-07-29</th>\n",
              "      <td>19336.0</td>\n",
              "      <td>21089.284946</td>\n",
              "    </tr>\n",
              "    <tr>\n",
              "      <th>2021-07-30</th>\n",
              "      <td>19503.0</td>\n",
              "      <td>21651.260132</td>\n",
              "    </tr>\n",
              "    <tr>\n",
              "      <th>2021-07-31</th>\n",
              "      <td>19686.0</td>\n",
              "      <td>22111.996073</td>\n",
              "    </tr>\n",
              "    <tr>\n",
              "      <th>2021-08-01</th>\n",
              "      <td>20067.0</td>\n",
              "      <td>22632.987065</td>\n",
              "    </tr>\n",
              "    <tr>\n",
              "      <th>2021-08-02</th>\n",
              "      <td>20226.0</td>\n",
              "      <td>23210.561853</td>\n",
              "    </tr>\n",
              "    <tr>\n",
              "      <th>2021-08-03</th>\n",
              "      <td>20226.0</td>\n",
              "      <td>23846.181623</td>\n",
              "    </tr>\n",
              "    <tr>\n",
              "      <th>2021-08-04</th>\n",
              "      <td>20550.0</td>\n",
              "      <td>24538.791910</td>\n",
              "    </tr>\n",
              "    <tr>\n",
              "      <th>2021-08-05</th>\n",
              "      <td>20550.0</td>\n",
              "      <td>25290.718991</td>\n",
              "    </tr>\n",
              "    <tr>\n",
              "      <th>2021-08-06</th>\n",
              "      <td>NaN</td>\n",
              "      <td>26098.558455</td>\n",
              "    </tr>\n",
              "    <tr>\n",
              "      <th>2021-08-07</th>\n",
              "      <td>NaN</td>\n",
              "      <td>26960.754431</td>\n",
              "    </tr>\n",
              "    <tr>\n",
              "      <th>2021-08-08</th>\n",
              "      <td>NaN</td>\n",
              "      <td>27923.012527</td>\n",
              "    </tr>\n",
              "    <tr>\n",
              "      <th>2021-08-09</th>\n",
              "      <td>NaN</td>\n",
              "      <td>28992.896902</td>\n",
              "    </tr>\n",
              "    <tr>\n",
              "      <th>2021-08-10</th>\n",
              "      <td>NaN</td>\n",
              "      <td>30184.817123</td>\n",
              "    </tr>\n",
              "    <tr>\n",
              "      <th>2021-08-11</th>\n",
              "      <td>NaN</td>\n",
              "      <td>31517.163891</td>\n",
              "    </tr>\n",
              "    <tr>\n",
              "      <th>2021-08-12</th>\n",
              "      <td>NaN</td>\n",
              "      <td>33015.659658</td>\n",
              "    </tr>\n",
              "  </tbody>\n",
              "</table>\n",
              "</div>"
            ],
            "text/plain": [
              "            actual_confirmed_Death     predicted\n",
              "2021-07-29                 19336.0  21089.284946\n",
              "2021-07-30                 19503.0  21651.260132\n",
              "2021-07-31                 19686.0  22111.996073\n",
              "2021-08-01                 20067.0  22632.987065\n",
              "2021-08-02                 20226.0  23210.561853\n",
              "2021-08-03                 20226.0  23846.181623\n",
              "2021-08-04                 20550.0  24538.791910\n",
              "2021-08-05                 20550.0  25290.718991\n",
              "2021-08-06                     NaN  26098.558455\n",
              "2021-08-07                     NaN  26960.754431\n",
              "2021-08-08                     NaN  27923.012527\n",
              "2021-08-09                     NaN  28992.896902\n",
              "2021-08-10                     NaN  30184.817123\n",
              "2021-08-11                     NaN  31517.163891\n",
              "2021-08-12                     NaN  33015.659658"
            ]
          },
          "metadata": {
            "tags": []
          },
          "execution_count": 46
        }
      ]
    },
    {
      "cell_type": "code",
      "metadata": {
        "id": "9XQnDBnmJT8c"
      },
      "source": [
        "df_forecast.loc[:,\"predicted\"] = rescaled_predictions[:,0]\n",
        "df_forecast.loc[:,\"actual_confirmed_Death\"] = test[\"confirmed\"]"
      ],
      "execution_count": 44,
      "outputs": []
    },
    {
      "cell_type": "code",
      "metadata": {
        "colab": {
          "base_uri": "https://localhost:8080/",
          "height": 322
        },
        "id": "IjuV2zUEJbZF",
        "outputId": "ad92b789-ef7a-4c48-d10a-f794ffbe9486"
      },
      "source": [
        "df_forecast.plot(title=\"Predictions for next 7 days\")"
      ],
      "execution_count": 45,
      "outputs": [
        {
          "output_type": "execute_result",
          "data": {
            "text/plain": [
              "<matplotlib.axes._subplots.AxesSubplot at 0x7fa5f04aa710>"
            ]
          },
          "metadata": {
            "tags": []
          },
          "execution_count": 45
        },
        {
          "output_type": "display_data",
          "data": {
            "image/png": "[encoded data removed]",
            "text/plain": [
              "<Figure size 432x288 with 1 Axes>"
            ]
          },
          "metadata": {
            "tags": [],
            "needs_background": "light"
          }
        }
      ]
    }
  ]
}