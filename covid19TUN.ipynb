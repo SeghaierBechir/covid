{
  "nbformat": 4,
  "nbformat_minor": 0,
  "metadata": {
    "colab": {
      "name": "covid19TUN.ipynb",
      "provenance": [],
      "collapsed_sections": []
    },
    "kernelspec": {
      "name": "python3",
      "display_name": "Python 3"
    },
    "language_info": {
      "name": "python"
    },
    "accelerator": "GPU"
  },
  "cells": [
    {
      "cell_type": "code",
      "metadata": {
        "id": "bWUdSk88_ZgN"
      },
      "source": [
        "import pandas as pd\n",
        "import numpy as np\n",
        "import matplotlib.pyplot as plt"
      ],
      "execution_count": null,
      "outputs": []
    },
    {
      "cell_type": "code",
      "metadata": {
        "colab": {
          "base_uri": "https://localhost:8080/",
          "height": 253
        },
        "id": "r68_xZHM_4y0",
        "outputId": "91ab1abd-895c-4f6a-a8ba-fe298cd2b114"
      },
      "source": [
        "df_confirmed = pd.read_csv(\"https://raw.githubusercontent.com/CSSEGISandData/COVID-19/master/csse_covid_19_data/csse_covid_19_time_series/time_series_covid19_confirmed_global.csv\")\n",
        "df_confirmed.head()"
      ],
      "execution_count": null,
      "outputs": [
        {
          "output_type": "execute_result",
          "data": {
            "text/html": [
              "<div>\n",
              "<style scoped>\n",
              "    .dataframe tbody tr th:only-of-type {\n",
              "        vertical-align: middle;\n",
              "    }\n",
              "\n",
              "    .dataframe tbody tr th {\n",
              "        vertical-align: top;\n",
              "    }\n",
              "\n",
              "    .dataframe thead th {\n",
              "        text-align: right;\n",
              "    }\n",
              "</style>\n",
              "<table border=\"1\" class=\"dataframe\">\n",
              "  <thead>\n",
              "    <tr style=\"text-align: right;\">\n",
              "      <th></th>\n",
              "      <th>Province/State</th>\n",
              "      <th>Country/Region</th>\n",
              "      <th>Lat</th>\n",
              "      <th>Long</th>\n",
              "      <th>1/22/20</th>\n",
              "      <th>1/23/20</th>\n",
              "      <th>1/24/20</th>\n",
              "      <th>1/25/20</th>\n",
              "      <th>1/26/20</th>\n",
              "      <th>1/27/20</th>\n",
              "      <th>1/28/20</th>\n",
              "      <th>1/29/20</th>\n",
              "      <th>1/30/20</th>\n",
              "      <th>1/31/20</th>\n",
              "      <th>2/1/20</th>\n",
              "      <th>2/2/20</th>\n",
              "      <th>2/3/20</th>\n",
              "      <th>2/4/20</th>\n",
              "      <th>2/5/20</th>\n",
              "      <th>2/6/20</th>\n",
              "      <th>2/7/20</th>\n",
              "      <th>2/8/20</th>\n",
              "      <th>2/9/20</th>\n",
              "      <th>2/10/20</th>\n",
              "      <th>2/11/20</th>\n",
              "      <th>2/12/20</th>\n",
              "      <th>2/13/20</th>\n",
              "      <th>2/14/20</th>\n",
              "      <th>2/15/20</th>\n",
              "      <th>2/16/20</th>\n",
              "      <th>2/17/20</th>\n",
              "      <th>2/18/20</th>\n",
              "      <th>2/19/20</th>\n",
              "      <th>2/20/20</th>\n",
              "      <th>2/21/20</th>\n",
              "      <th>2/22/20</th>\n",
              "      <th>2/23/20</th>\n",
              "      <th>2/24/20</th>\n",
              "      <th>2/25/20</th>\n",
              "      <th>2/26/20</th>\n",
              "      <th>...</th>\n",
              "      <th>6/24/21</th>\n",
              "      <th>6/25/21</th>\n",
              "      <th>6/26/21</th>\n",
              "      <th>6/27/21</th>\n",
              "      <th>6/28/21</th>\n",
              "      <th>6/29/21</th>\n",
              "      <th>6/30/21</th>\n",
              "      <th>7/1/21</th>\n",
              "      <th>7/2/21</th>\n",
              "      <th>7/3/21</th>\n",
              "      <th>7/4/21</th>\n",
              "      <th>7/5/21</th>\n",
              "      <th>7/6/21</th>\n",
              "      <th>7/7/21</th>\n",
              "      <th>7/8/21</th>\n",
              "      <th>7/9/21</th>\n",
              "      <th>7/10/21</th>\n",
              "      <th>7/11/21</th>\n",
              "      <th>7/12/21</th>\n",
              "      <th>7/13/21</th>\n",
              "      <th>7/14/21</th>\n",
              "      <th>7/15/21</th>\n",
              "      <th>7/16/21</th>\n",
              "      <th>7/17/21</th>\n",
              "      <th>7/18/21</th>\n",
              "      <th>7/19/21</th>\n",
              "      <th>7/20/21</th>\n",
              "      <th>7/21/21</th>\n",
              "      <th>7/22/21</th>\n",
              "      <th>7/23/21</th>\n",
              "      <th>7/24/21</th>\n",
              "      <th>7/25/21</th>\n",
              "      <th>7/26/21</th>\n",
              "      <th>7/27/21</th>\n",
              "      <th>7/28/21</th>\n",
              "      <th>7/29/21</th>\n",
              "      <th>7/30/21</th>\n",
              "      <th>7/31/21</th>\n",
              "      <th>8/1/21</th>\n",
              "      <th>8/2/21</th>\n",
              "    </tr>\n",
              "  </thead>\n",
              "  <tbody>\n",
              "    <tr>\n",
              "      <th>0</th>\n",
              "      <td>NaN</td>\n",
              "      <td>Afghanistan</td>\n",
              "      <td>33.93911</td>\n",
              "      <td>67.709953</td>\n",
              "      <td>0</td>\n",
              "      <td>0</td>\n",
              "      <td>0</td>\n",
              "      <td>0</td>\n",
              "      <td>0</td>\n",
              "      <td>0</td>\n",
              "      <td>0</td>\n",
              "      <td>0</td>\n",
              "      <td>0</td>\n",
              "      <td>0</td>\n",
              "      <td>0</td>\n",
              "      <td>0</td>\n",
              "      <td>0</td>\n",
              "      <td>0</td>\n",
              "      <td>0</td>\n",
              "      <td>0</td>\n",
              "      <td>0</td>\n",
              "      <td>0</td>\n",
              "      <td>0</td>\n",
              "      <td>0</td>\n",
              "      <td>0</td>\n",
              "      <td>0</td>\n",
              "      <td>0</td>\n",
              "      <td>0</td>\n",
              "      <td>0</td>\n",
              "      <td>0</td>\n",
              "      <td>0</td>\n",
              "      <td>0</td>\n",
              "      <td>0</td>\n",
              "      <td>0</td>\n",
              "      <td>0</td>\n",
              "      <td>0</td>\n",
              "      <td>0</td>\n",
              "      <td>1</td>\n",
              "      <td>1</td>\n",
              "      <td>1</td>\n",
              "      <td>...</td>\n",
              "      <td>109532</td>\n",
              "      <td>111592</td>\n",
              "      <td>111592</td>\n",
              "      <td>111592</td>\n",
              "      <td>115751</td>\n",
              "      <td>117158</td>\n",
              "      <td>118659</td>\n",
              "      <td>120216</td>\n",
              "      <td>120216</td>\n",
              "      <td>120216</td>\n",
              "      <td>120216</td>\n",
              "      <td>125937</td>\n",
              "      <td>127464</td>\n",
              "      <td>129021</td>\n",
              "      <td>130113</td>\n",
              "      <td>131586</td>\n",
              "      <td>131586</td>\n",
              "      <td>131586</td>\n",
              "      <td>134653</td>\n",
              "      <td>134653</td>\n",
              "      <td>136643</td>\n",
              "      <td>137853</td>\n",
              "      <td>137853</td>\n",
              "      <td>137853</td>\n",
              "      <td>137853</td>\n",
              "      <td>141489</td>\n",
              "      <td>142414</td>\n",
              "      <td>142414</td>\n",
              "      <td>143183</td>\n",
              "      <td>143439</td>\n",
              "      <td>143439</td>\n",
              "      <td>143439</td>\n",
              "      <td>144285</td>\n",
              "      <td>145008</td>\n",
              "      <td>145552</td>\n",
              "      <td>145996</td>\n",
              "      <td>146523</td>\n",
              "      <td>146523</td>\n",
              "      <td>146523</td>\n",
              "      <td>147985</td>\n",
              "    </tr>\n",
              "    <tr>\n",
              "      <th>1</th>\n",
              "      <td>NaN</td>\n",
              "      <td>Albania</td>\n",
              "      <td>41.15330</td>\n",
              "      <td>20.168300</td>\n",
              "      <td>0</td>\n",
              "      <td>0</td>\n",
              "      <td>0</td>\n",
              "      <td>0</td>\n",
              "      <td>0</td>\n",
              "      <td>0</td>\n",
              "      <td>0</td>\n",
              "      <td>0</td>\n",
              "      <td>0</td>\n",
              "      <td>0</td>\n",
              "      <td>0</td>\n",
              "      <td>0</td>\n",
              "      <td>0</td>\n",
              "      <td>0</td>\n",
              "      <td>0</td>\n",
              "      <td>0</td>\n",
              "      <td>0</td>\n",
              "      <td>0</td>\n",
              "      <td>0</td>\n",
              "      <td>0</td>\n",
              "      <td>0</td>\n",
              "      <td>0</td>\n",
              "      <td>0</td>\n",
              "      <td>0</td>\n",
              "      <td>0</td>\n",
              "      <td>0</td>\n",
              "      <td>0</td>\n",
              "      <td>0</td>\n",
              "      <td>0</td>\n",
              "      <td>0</td>\n",
              "      <td>0</td>\n",
              "      <td>0</td>\n",
              "      <td>0</td>\n",
              "      <td>0</td>\n",
              "      <td>0</td>\n",
              "      <td>0</td>\n",
              "      <td>...</td>\n",
              "      <td>132499</td>\n",
              "      <td>132506</td>\n",
              "      <td>132509</td>\n",
              "      <td>132512</td>\n",
              "      <td>132513</td>\n",
              "      <td>132514</td>\n",
              "      <td>132521</td>\n",
              "      <td>132523</td>\n",
              "      <td>132526</td>\n",
              "      <td>132534</td>\n",
              "      <td>132535</td>\n",
              "      <td>132537</td>\n",
              "      <td>132544</td>\n",
              "      <td>132557</td>\n",
              "      <td>132565</td>\n",
              "      <td>132580</td>\n",
              "      <td>132587</td>\n",
              "      <td>132592</td>\n",
              "      <td>132597</td>\n",
              "      <td>132608</td>\n",
              "      <td>132616</td>\n",
              "      <td>132629</td>\n",
              "      <td>132647</td>\n",
              "      <td>132665</td>\n",
              "      <td>132686</td>\n",
              "      <td>132697</td>\n",
              "      <td>132740</td>\n",
              "      <td>132763</td>\n",
              "      <td>132797</td>\n",
              "      <td>132828</td>\n",
              "      <td>132853</td>\n",
              "      <td>132875</td>\n",
              "      <td>132891</td>\n",
              "      <td>132922</td>\n",
              "      <td>132952</td>\n",
              "      <td>132999</td>\n",
              "      <td>133036</td>\n",
              "      <td>133081</td>\n",
              "      <td>133121</td>\n",
              "      <td>133146</td>\n",
              "    </tr>\n",
              "    <tr>\n",
              "      <th>2</th>\n",
              "      <td>NaN</td>\n",
              "      <td>Algeria</td>\n",
              "      <td>28.03390</td>\n",
              "      <td>1.659600</td>\n",
              "      <td>0</td>\n",
              "      <td>0</td>\n",
              "      <td>0</td>\n",
              "      <td>0</td>\n",
              "      <td>0</td>\n",
              "      <td>0</td>\n",
              "      <td>0</td>\n",
              "      <td>0</td>\n",
              "      <td>0</td>\n",
              "      <td>0</td>\n",
              "      <td>0</td>\n",
              "      <td>0</td>\n",
              "      <td>0</td>\n",
              "      <td>0</td>\n",
              "      <td>0</td>\n",
              "      <td>0</td>\n",
              "      <td>0</td>\n",
              "      <td>0</td>\n",
              "      <td>0</td>\n",
              "      <td>0</td>\n",
              "      <td>0</td>\n",
              "      <td>0</td>\n",
              "      <td>0</td>\n",
              "      <td>0</td>\n",
              "      <td>0</td>\n",
              "      <td>0</td>\n",
              "      <td>0</td>\n",
              "      <td>0</td>\n",
              "      <td>0</td>\n",
              "      <td>0</td>\n",
              "      <td>0</td>\n",
              "      <td>0</td>\n",
              "      <td>0</td>\n",
              "      <td>0</td>\n",
              "      <td>1</td>\n",
              "      <td>1</td>\n",
              "      <td>...</td>\n",
              "      <td>137403</td>\n",
              "      <td>137772</td>\n",
              "      <td>138113</td>\n",
              "      <td>138465</td>\n",
              "      <td>138840</td>\n",
              "      <td>139229</td>\n",
              "      <td>139626</td>\n",
              "      <td>140075</td>\n",
              "      <td>140550</td>\n",
              "      <td>141007</td>\n",
              "      <td>141471</td>\n",
              "      <td>141966</td>\n",
              "      <td>142447</td>\n",
              "      <td>143032</td>\n",
              "      <td>143652</td>\n",
              "      <td>144483</td>\n",
              "      <td>145296</td>\n",
              "      <td>146064</td>\n",
              "      <td>146942</td>\n",
              "      <td>147883</td>\n",
              "      <td>148797</td>\n",
              "      <td>149906</td>\n",
              "      <td>151103</td>\n",
              "      <td>152210</td>\n",
              "      <td>153309</td>\n",
              "      <td>154486</td>\n",
              "      <td>155784</td>\n",
              "      <td>157005</td>\n",
              "      <td>158213</td>\n",
              "      <td>159563</td>\n",
              "      <td>160868</td>\n",
              "      <td>162155</td>\n",
              "      <td>163660</td>\n",
              "      <td>165204</td>\n",
              "      <td>167131</td>\n",
              "      <td>168668</td>\n",
              "      <td>170189</td>\n",
              "      <td>171392</td>\n",
              "      <td>172564</td>\n",
              "      <td>173922</td>\n",
              "    </tr>\n",
              "    <tr>\n",
              "      <th>3</th>\n",
              "      <td>NaN</td>\n",
              "      <td>Andorra</td>\n",
              "      <td>42.50630</td>\n",
              "      <td>1.521800</td>\n",
              "      <td>0</td>\n",
              "      <td>0</td>\n",
              "      <td>0</td>\n",
              "      <td>0</td>\n",
              "      <td>0</td>\n",
              "      <td>0</td>\n",
              "      <td>0</td>\n",
              "      <td>0</td>\n",
              "      <td>0</td>\n",
              "      <td>0</td>\n",
              "      <td>0</td>\n",
              "      <td>0</td>\n",
              "      <td>0</td>\n",
              "      <td>0</td>\n",
              "      <td>0</td>\n",
              "      <td>0</td>\n",
              "      <td>0</td>\n",
              "      <td>0</td>\n",
              "      <td>0</td>\n",
              "      <td>0</td>\n",
              "      <td>0</td>\n",
              "      <td>0</td>\n",
              "      <td>0</td>\n",
              "      <td>0</td>\n",
              "      <td>0</td>\n",
              "      <td>0</td>\n",
              "      <td>0</td>\n",
              "      <td>0</td>\n",
              "      <td>0</td>\n",
              "      <td>0</td>\n",
              "      <td>0</td>\n",
              "      <td>0</td>\n",
              "      <td>0</td>\n",
              "      <td>0</td>\n",
              "      <td>0</td>\n",
              "      <td>0</td>\n",
              "      <td>...</td>\n",
              "      <td>13877</td>\n",
              "      <td>13882</td>\n",
              "      <td>13882</td>\n",
              "      <td>13882</td>\n",
              "      <td>13882</td>\n",
              "      <td>13900</td>\n",
              "      <td>13911</td>\n",
              "      <td>13918</td>\n",
              "      <td>13918</td>\n",
              "      <td>13918</td>\n",
              "      <td>13918</td>\n",
              "      <td>13918</td>\n",
              "      <td>13991</td>\n",
              "      <td>14021</td>\n",
              "      <td>14050</td>\n",
              "      <td>14075</td>\n",
              "      <td>14075</td>\n",
              "      <td>14075</td>\n",
              "      <td>14155</td>\n",
              "      <td>14167</td>\n",
              "      <td>14167</td>\n",
              "      <td>14239</td>\n",
              "      <td>14273</td>\n",
              "      <td>14273</td>\n",
              "      <td>14273</td>\n",
              "      <td>14359</td>\n",
              "      <td>14379</td>\n",
              "      <td>14379</td>\n",
              "      <td>14464</td>\n",
              "      <td>14498</td>\n",
              "      <td>14498</td>\n",
              "      <td>14498</td>\n",
              "      <td>14577</td>\n",
              "      <td>14586</td>\n",
              "      <td>14586</td>\n",
              "      <td>14655</td>\n",
              "      <td>14678</td>\n",
              "      <td>14678</td>\n",
              "      <td>14678</td>\n",
              "      <td>14747</td>\n",
              "    </tr>\n",
              "    <tr>\n",
              "      <th>4</th>\n",
              "      <td>NaN</td>\n",
              "      <td>Angola</td>\n",
              "      <td>-11.20270</td>\n",
              "      <td>17.873900</td>\n",
              "      <td>0</td>\n",
              "      <td>0</td>\n",
              "      <td>0</td>\n",
              "      <td>0</td>\n",
              "      <td>0</td>\n",
              "      <td>0</td>\n",
              "      <td>0</td>\n",
              "      <td>0</td>\n",
              "      <td>0</td>\n",
              "      <td>0</td>\n",
              "      <td>0</td>\n",
              "      <td>0</td>\n",
              "      <td>0</td>\n",
              "      <td>0</td>\n",
              "      <td>0</td>\n",
              "      <td>0</td>\n",
              "      <td>0</td>\n",
              "      <td>0</td>\n",
              "      <td>0</td>\n",
              "      <td>0</td>\n",
              "      <td>0</td>\n",
              "      <td>0</td>\n",
              "      <td>0</td>\n",
              "      <td>0</td>\n",
              "      <td>0</td>\n",
              "      <td>0</td>\n",
              "      <td>0</td>\n",
              "      <td>0</td>\n",
              "      <td>0</td>\n",
              "      <td>0</td>\n",
              "      <td>0</td>\n",
              "      <td>0</td>\n",
              "      <td>0</td>\n",
              "      <td>0</td>\n",
              "      <td>0</td>\n",
              "      <td>0</td>\n",
              "      <td>...</td>\n",
              "      <td>38091</td>\n",
              "      <td>38371</td>\n",
              "      <td>38528</td>\n",
              "      <td>38556</td>\n",
              "      <td>38613</td>\n",
              "      <td>38682</td>\n",
              "      <td>38849</td>\n",
              "      <td>38965</td>\n",
              "      <td>39089</td>\n",
              "      <td>39172</td>\n",
              "      <td>39230</td>\n",
              "      <td>39300</td>\n",
              "      <td>39375</td>\n",
              "      <td>39491</td>\n",
              "      <td>39593</td>\n",
              "      <td>39791</td>\n",
              "      <td>39881</td>\n",
              "      <td>39958</td>\n",
              "      <td>40055</td>\n",
              "      <td>40138</td>\n",
              "      <td>40327</td>\n",
              "      <td>40530</td>\n",
              "      <td>40631</td>\n",
              "      <td>40707</td>\n",
              "      <td>40805</td>\n",
              "      <td>40906</td>\n",
              "      <td>41061</td>\n",
              "      <td>41227</td>\n",
              "      <td>41405</td>\n",
              "      <td>41629</td>\n",
              "      <td>41736</td>\n",
              "      <td>41780</td>\n",
              "      <td>41879</td>\n",
              "      <td>42110</td>\n",
              "      <td>42288</td>\n",
              "      <td>42486</td>\n",
              "      <td>42646</td>\n",
              "      <td>42777</td>\n",
              "      <td>42815</td>\n",
              "      <td>42970</td>\n",
              "    </tr>\n",
              "  </tbody>\n",
              "</table>\n",
              "<p>5 rows × 563 columns</p>\n",
              "</div>"
            ],
            "text/plain": [
              "  Province/State Country/Region       Lat  ...  7/31/21  8/1/21  8/2/21\n",
              "0            NaN    Afghanistan  33.93911  ...   146523  146523  147985\n",
              "1            NaN        Albania  41.15330  ...   133081  133121  133146\n",
              "2            NaN        Algeria  28.03390  ...   171392  172564  173922\n",
              "3            NaN        Andorra  42.50630  ...    14678   14678   14747\n",
              "4            NaN         Angola -11.20270  ...    42777   42815   42970\n",
              "\n",
              "[5 rows x 563 columns]"
            ]
          },
          "metadata": {
            "tags": []
          },
          "execution_count": 2
        }
      ]
    },
    {
      "cell_type": "code",
      "metadata": {
        "colab": {
          "base_uri": "https://localhost:8080/"
        },
        "id": "lysuFOvL_64j",
        "outputId": "aa1526ef-3d3c-48e6-e6d1-21ddc80a359b"
      },
      "source": [
        "df_confirmed.shape"
      ],
      "execution_count": null,
      "outputs": [
        {
          "output_type": "execute_result",
          "data": {
            "text/plain": [
              "(279, 563)"
            ]
          },
          "metadata": {
            "tags": []
          },
          "execution_count": 3
        }
      ]
    },
    {
      "cell_type": "code",
      "metadata": {
        "id": "jAVnnHf___f3"
      },
      "source": [
        "country=\"Tunisia\""
      ],
      "execution_count": null,
      "outputs": []
    },
    {
      "cell_type": "code",
      "metadata": {
        "colab": {
          "base_uri": "https://localhost:8080/",
          "height": 129
        },
        "id": "PaXzWhB-AGMX",
        "outputId": "92ce9b82-195d-4aa5-86cb-45cdccf283d1"
      },
      "source": [
        "df_confirmed_country= df_confirmed[df_confirmed[\"Country/Region\"]==country]\n",
        "df_confirmed_country.head()"
      ],
      "execution_count": null,
      "outputs": [
        {
          "output_type": "execute_result",
          "data": {
            "text/html": [
              "<div>\n",
              "<style scoped>\n",
              "    .dataframe tbody tr th:only-of-type {\n",
              "        vertical-align: middle;\n",
              "    }\n",
              "\n",
              "    .dataframe tbody tr th {\n",
              "        vertical-align: top;\n",
              "    }\n",
              "\n",
              "    .dataframe thead th {\n",
              "        text-align: right;\n",
              "    }\n",
              "</style>\n",
              "<table border=\"1\" class=\"dataframe\">\n",
              "  <thead>\n",
              "    <tr style=\"text-align: right;\">\n",
              "      <th></th>\n",
              "      <th>Province/State</th>\n",
              "      <th>Country/Region</th>\n",
              "      <th>Lat</th>\n",
              "      <th>Long</th>\n",
              "      <th>1/22/20</th>\n",
              "      <th>1/23/20</th>\n",
              "      <th>1/24/20</th>\n",
              "      <th>1/25/20</th>\n",
              "      <th>1/26/20</th>\n",
              "      <th>1/27/20</th>\n",
              "      <th>1/28/20</th>\n",
              "      <th>1/29/20</th>\n",
              "      <th>1/30/20</th>\n",
              "      <th>1/31/20</th>\n",
              "      <th>2/1/20</th>\n",
              "      <th>2/2/20</th>\n",
              "      <th>2/3/20</th>\n",
              "      <th>2/4/20</th>\n",
              "      <th>2/5/20</th>\n",
              "      <th>2/6/20</th>\n",
              "      <th>2/7/20</th>\n",
              "      <th>2/8/20</th>\n",
              "      <th>2/9/20</th>\n",
              "      <th>2/10/20</th>\n",
              "      <th>2/11/20</th>\n",
              "      <th>2/12/20</th>\n",
              "      <th>2/13/20</th>\n",
              "      <th>2/14/20</th>\n",
              "      <th>2/15/20</th>\n",
              "      <th>2/16/20</th>\n",
              "      <th>2/17/20</th>\n",
              "      <th>2/18/20</th>\n",
              "      <th>2/19/20</th>\n",
              "      <th>2/20/20</th>\n",
              "      <th>2/21/20</th>\n",
              "      <th>2/22/20</th>\n",
              "      <th>2/23/20</th>\n",
              "      <th>2/24/20</th>\n",
              "      <th>2/25/20</th>\n",
              "      <th>2/26/20</th>\n",
              "      <th>...</th>\n",
              "      <th>6/24/21</th>\n",
              "      <th>6/25/21</th>\n",
              "      <th>6/26/21</th>\n",
              "      <th>6/27/21</th>\n",
              "      <th>6/28/21</th>\n",
              "      <th>6/29/21</th>\n",
              "      <th>6/30/21</th>\n",
              "      <th>7/1/21</th>\n",
              "      <th>7/2/21</th>\n",
              "      <th>7/3/21</th>\n",
              "      <th>7/4/21</th>\n",
              "      <th>7/5/21</th>\n",
              "      <th>7/6/21</th>\n",
              "      <th>7/7/21</th>\n",
              "      <th>7/8/21</th>\n",
              "      <th>7/9/21</th>\n",
              "      <th>7/10/21</th>\n",
              "      <th>7/11/21</th>\n",
              "      <th>7/12/21</th>\n",
              "      <th>7/13/21</th>\n",
              "      <th>7/14/21</th>\n",
              "      <th>7/15/21</th>\n",
              "      <th>7/16/21</th>\n",
              "      <th>7/17/21</th>\n",
              "      <th>7/18/21</th>\n",
              "      <th>7/19/21</th>\n",
              "      <th>7/20/21</th>\n",
              "      <th>7/21/21</th>\n",
              "      <th>7/22/21</th>\n",
              "      <th>7/23/21</th>\n",
              "      <th>7/24/21</th>\n",
              "      <th>7/25/21</th>\n",
              "      <th>7/26/21</th>\n",
              "      <th>7/27/21</th>\n",
              "      <th>7/28/21</th>\n",
              "      <th>7/29/21</th>\n",
              "      <th>7/30/21</th>\n",
              "      <th>7/31/21</th>\n",
              "      <th>8/1/21</th>\n",
              "      <th>8/2/21</th>\n",
              "    </tr>\n",
              "  </thead>\n",
              "  <tbody>\n",
              "    <tr>\n",
              "      <th>252</th>\n",
              "      <td>NaN</td>\n",
              "      <td>Tunisia</td>\n",
              "      <td>33.886917</td>\n",
              "      <td>9.537499</td>\n",
              "      <td>0</td>\n",
              "      <td>0</td>\n",
              "      <td>0</td>\n",
              "      <td>0</td>\n",
              "      <td>0</td>\n",
              "      <td>0</td>\n",
              "      <td>0</td>\n",
              "      <td>0</td>\n",
              "      <td>0</td>\n",
              "      <td>0</td>\n",
              "      <td>0</td>\n",
              "      <td>0</td>\n",
              "      <td>0</td>\n",
              "      <td>0</td>\n",
              "      <td>0</td>\n",
              "      <td>0</td>\n",
              "      <td>0</td>\n",
              "      <td>0</td>\n",
              "      <td>0</td>\n",
              "      <td>0</td>\n",
              "      <td>0</td>\n",
              "      <td>0</td>\n",
              "      <td>0</td>\n",
              "      <td>0</td>\n",
              "      <td>0</td>\n",
              "      <td>0</td>\n",
              "      <td>0</td>\n",
              "      <td>0</td>\n",
              "      <td>0</td>\n",
              "      <td>0</td>\n",
              "      <td>0</td>\n",
              "      <td>0</td>\n",
              "      <td>0</td>\n",
              "      <td>0</td>\n",
              "      <td>0</td>\n",
              "      <td>0</td>\n",
              "      <td>...</td>\n",
              "      <td>395362</td>\n",
              "      <td>398829</td>\n",
              "      <td>403493</td>\n",
              "      <td>407017</td>\n",
              "      <td>408931</td>\n",
              "      <td>414182</td>\n",
              "      <td>420103</td>\n",
              "      <td>426879</td>\n",
              "      <td>432761</td>\n",
              "      <td>438945</td>\n",
              "      <td>443631</td>\n",
              "      <td>447161</td>\n",
              "      <td>455091</td>\n",
              "      <td>464914</td>\n",
              "      <td>473229</td>\n",
              "      <td>481735</td>\n",
              "      <td>491021</td>\n",
              "      <td>497613</td>\n",
              "      <td>501923</td>\n",
              "      <td>510396</td>\n",
              "      <td>518609</td>\n",
              "      <td>526487</td>\n",
              "      <td>533274</td>\n",
              "      <td>540798</td>\n",
              "      <td>546233</td>\n",
              "      <td>548753</td>\n",
              "      <td>554911</td>\n",
              "      <td>555997</td>\n",
              "      <td>558306</td>\n",
              "      <td>558306</td>\n",
              "      <td>563930</td>\n",
              "      <td>569289</td>\n",
              "      <td>573394</td>\n",
              "      <td>575002</td>\n",
              "      <td>578962</td>\n",
              "      <td>582638</td>\n",
              "      <td>586146</td>\n",
              "      <td>589565</td>\n",
              "      <td>595532</td>\n",
              "      <td>596775</td>\n",
              "    </tr>\n",
              "  </tbody>\n",
              "</table>\n",
              "<p>1 rows × 563 columns</p>\n",
              "</div>"
            ],
            "text/plain": [
              "    Province/State Country/Region        Lat  ...  7/31/21  8/1/21  8/2/21\n",
              "252            NaN        Tunisia  33.886917  ...   589565  595532  596775\n",
              "\n",
              "[1 rows x 563 columns]"
            ]
          },
          "metadata": {
            "tags": []
          },
          "execution_count": 5
        }
      ]
    },
    {
      "cell_type": "code",
      "metadata": {
        "colab": {
          "base_uri": "https://localhost:8080/"
        },
        "id": "VgQTCFSdARLc",
        "outputId": "47fe4803-63b6-456f-a31a-7e6075a5619b"
      },
      "source": [
        "df_confirmed_country.shape"
      ],
      "execution_count": null,
      "outputs": [
        {
          "output_type": "execute_result",
          "data": {
            "text/plain": [
              "(1, 563)"
            ]
          },
          "metadata": {
            "tags": []
          },
          "execution_count": 6
        }
      ]
    },
    {
      "cell_type": "code",
      "metadata": {
        "id": "E6NGUJ7PARWR"
      },
      "source": [
        "df_confirmed_country=pd.DataFrame(df_confirmed_country[df_confirmed_country.columns[4:]].sum(),columns=[\"confirmed\"])"
      ],
      "execution_count": null,
      "outputs": []
    },
    {
      "cell_type": "code",
      "metadata": {
        "colab": {
          "base_uri": "https://localhost:8080/"
        },
        "id": "uGLmjjY2Age1",
        "outputId": "695f09d1-71b6-4869-c172-24f4babf4395"
      },
      "source": [
        "df_confirmed_country.shape"
      ],
      "execution_count": null,
      "outputs": [
        {
          "output_type": "execute_result",
          "data": {
            "text/plain": [
              "(559, 1)"
            ]
          },
          "metadata": {
            "tags": []
          },
          "execution_count": 8
        }
      ]
    },
    {
      "cell_type": "code",
      "metadata": {
        "colab": {
          "base_uri": "https://localhost:8080/",
          "height": 204
        },
        "id": "yJBpVk-LAl_M",
        "outputId": "004d78ad-8387-4f17-cabf-7fe35c77ac2c"
      },
      "source": [
        "df_confirmed_country.head()"
      ],
      "execution_count": null,
      "outputs": [
        {
          "output_type": "execute_result",
          "data": {
            "text/html": [
              "<div>\n",
              "<style scoped>\n",
              "    .dataframe tbody tr th:only-of-type {\n",
              "        vertical-align: middle;\n",
              "    }\n",
              "\n",
              "    .dataframe tbody tr th {\n",
              "        vertical-align: top;\n",
              "    }\n",
              "\n",
              "    .dataframe thead th {\n",
              "        text-align: right;\n",
              "    }\n",
              "</style>\n",
              "<table border=\"1\" class=\"dataframe\">\n",
              "  <thead>\n",
              "    <tr style=\"text-align: right;\">\n",
              "      <th></th>\n",
              "      <th>confirmed</th>\n",
              "    </tr>\n",
              "  </thead>\n",
              "  <tbody>\n",
              "    <tr>\n",
              "      <th>1/22/20</th>\n",
              "      <td>0</td>\n",
              "    </tr>\n",
              "    <tr>\n",
              "      <th>1/23/20</th>\n",
              "      <td>0</td>\n",
              "    </tr>\n",
              "    <tr>\n",
              "      <th>1/24/20</th>\n",
              "      <td>0</td>\n",
              "    </tr>\n",
              "    <tr>\n",
              "      <th>1/25/20</th>\n",
              "      <td>0</td>\n",
              "    </tr>\n",
              "    <tr>\n",
              "      <th>1/26/20</th>\n",
              "      <td>0</td>\n",
              "    </tr>\n",
              "  </tbody>\n",
              "</table>\n",
              "</div>"
            ],
            "text/plain": [
              "         confirmed\n",
              "1/22/20          0\n",
              "1/23/20          0\n",
              "1/24/20          0\n",
              "1/25/20          0\n",
              "1/26/20          0"
            ]
          },
          "metadata": {
            "tags": []
          },
          "execution_count": 9
        }
      ]
    },
    {
      "cell_type": "code",
      "metadata": {
        "id": "dYYyvg4oApNd"
      },
      "source": [
        "df_confirmed_country.index = pd.to_datetime(df_confirmed_country.index,format='%m/%d/%y')"
      ],
      "execution_count": null,
      "outputs": []
    },
    {
      "cell_type": "code",
      "metadata": {
        "colab": {
          "base_uri": "https://localhost:8080/",
          "height": 364
        },
        "id": "0GsV6RZXA1KC",
        "outputId": "3072e52b-e3f4-4967-9ac8-486623ba636c"
      },
      "source": [
        "df_confirmed_country.plot(figsize=(12,5),title='confirmed cases')"
      ],
      "execution_count": null,
      "outputs": [
        {
          "output_type": "execute_result",
          "data": {
            "text/plain": [
              "<matplotlib.axes._subplots.AxesSubplot at 0x7f1a88914550>"
            ]
          },
          "metadata": {
            "tags": []
          },
          "execution_count": 11
        },
        {
          "output_type": "display_data",
          "data": {
            "image/png": "[encoded data removed]",
            "text/plain": [
              "<Figure size 864x360 with 1 Axes>"
            ]
          },
          "metadata": {
            "tags": [],
            "needs_background": "light"
          }
        }
      ]
    },
    {
      "cell_type": "code",
      "metadata": {
        "colab": {
          "base_uri": "https://localhost:8080/",
          "height": 359
        },
        "id": "Bkgv4LHRBAI0",
        "outputId": "e54007ca-829f-48fb-a95b-bc5f3180dbeb"
      },
      "source": [
        "df_confirmed_country.tail(10)"
      ],
      "execution_count": null,
      "outputs": [
        {
          "output_type": "execute_result",
          "data": {
            "text/html": [
              "<div>\n",
              "<style scoped>\n",
              "    .dataframe tbody tr th:only-of-type {\n",
              "        vertical-align: middle;\n",
              "    }\n",
              "\n",
              "    .dataframe tbody tr th {\n",
              "        vertical-align: top;\n",
              "    }\n",
              "\n",
              "    .dataframe thead th {\n",
              "        text-align: right;\n",
              "    }\n",
              "</style>\n",
              "<table border=\"1\" class=\"dataframe\">\n",
              "  <thead>\n",
              "    <tr style=\"text-align: right;\">\n",
              "      <th></th>\n",
              "      <th>confirmed</th>\n",
              "    </tr>\n",
              "  </thead>\n",
              "  <tbody>\n",
              "    <tr>\n",
              "      <th>2021-07-24</th>\n",
              "      <td>563930</td>\n",
              "    </tr>\n",
              "    <tr>\n",
              "      <th>2021-07-25</th>\n",
              "      <td>569289</td>\n",
              "    </tr>\n",
              "    <tr>\n",
              "      <th>2021-07-26</th>\n",
              "      <td>573394</td>\n",
              "    </tr>\n",
              "    <tr>\n",
              "      <th>2021-07-27</th>\n",
              "      <td>575002</td>\n",
              "    </tr>\n",
              "    <tr>\n",
              "      <th>2021-07-28</th>\n",
              "      <td>578962</td>\n",
              "    </tr>\n",
              "    <tr>\n",
              "      <th>2021-07-29</th>\n",
              "      <td>582638</td>\n",
              "    </tr>\n",
              "    <tr>\n",
              "      <th>2021-07-30</th>\n",
              "      <td>586146</td>\n",
              "    </tr>\n",
              "    <tr>\n",
              "      <th>2021-07-31</th>\n",
              "      <td>589565</td>\n",
              "    </tr>\n",
              "    <tr>\n",
              "      <th>2021-08-01</th>\n",
              "      <td>595532</td>\n",
              "    </tr>\n",
              "    <tr>\n",
              "      <th>2021-08-02</th>\n",
              "      <td>596775</td>\n",
              "    </tr>\n",
              "  </tbody>\n",
              "</table>\n",
              "</div>"
            ],
            "text/plain": [
              "            confirmed\n",
              "2021-07-24     563930\n",
              "2021-07-25     569289\n",
              "2021-07-26     573394\n",
              "2021-07-27     575002\n",
              "2021-07-28     578962\n",
              "2021-07-29     582638\n",
              "2021-07-30     586146\n",
              "2021-07-31     589565\n",
              "2021-08-01     595532\n",
              "2021-08-02     596775"
            ]
          },
          "metadata": {
            "tags": []
          },
          "execution_count": 12
        }
      ]
    },
    {
      "cell_type": "code",
      "metadata": {
        "colab": {
          "base_uri": "https://localhost:8080/"
        },
        "id": "0ElUrU1DBGsC",
        "outputId": "d860da1a-c88f-4eec-fefb-7da760f51a24"
      },
      "source": [
        "print('Total days in the dataSet',len(df_confirmed_country))"
      ],
      "execution_count": null,
      "outputs": [
        {
          "output_type": "stream",
          "text": [
            "Total days in the dataSet 559\n"
          ],
          "name": "stdout"
        }
      ]
    },
    {
      "cell_type": "code",
      "metadata": {
        "id": "X9fyDVeoBJpH"
      },
      "source": [
        "x = len(df_confirmed_country)-14"
      ],
      "execution_count": null,
      "outputs": []
    },
    {
      "cell_type": "code",
      "metadata": {
        "id": "3oBEiTMNBJ1x"
      },
      "source": [
        "train = df_confirmed_country.iloc[:x]\n",
        "test = df_confirmed_country.iloc[x:]"
      ],
      "execution_count": null,
      "outputs": []
    },
    {
      "cell_type": "code",
      "metadata": {
        "id": "7DKG-ITwBWp2"
      },
      "source": [
        "from sklearn.preprocessing import MinMaxScaler"
      ],
      "execution_count": null,
      "outputs": []
    },
    {
      "cell_type": "code",
      "metadata": {
        "colab": {
          "base_uri": "https://localhost:8080/"
        },
        "id": "_-2GuVyPBbn0",
        "outputId": "bf59a2bb-f748-4804-f2a2-471712fdb9f1"
      },
      "source": [
        "scaler = MinMaxScaler()\n",
        "scaler.fit(train)"
      ],
      "execution_count": null,
      "outputs": [
        {
          "output_type": "execute_result",
          "data": {
            "text/plain": [
              "MinMaxScaler(copy=True, feature_range=(0, 1))"
            ]
          },
          "metadata": {
            "tags": []
          },
          "execution_count": 17
        }
      ]
    },
    {
      "cell_type": "code",
      "metadata": {
        "id": "nqa_t1ZoBges"
      },
      "source": [
        "train_scaled = scaler.transform(train)\n",
        "test_scaled = scaler.transform(test)"
      ],
      "execution_count": null,
      "outputs": []
    },
    {
      "cell_type": "code",
      "metadata": {
        "id": "UbrJi8bKBlzu"
      },
      "source": [
        "from keras.preprocessing.sequence import TimeseriesGenerator"
      ],
      "execution_count": null,
      "outputs": []
    },
    {
      "cell_type": "code",
      "metadata": {
        "id": "umjEbycnBl92"
      },
      "source": [
        "seq_size = 7 # 7 days\n",
        "n_features = 1\n",
        "train_generator = TimeseriesGenerator(train_scaled,train_scaled,length=seq_size,batch_size=1)"
      ],
      "execution_count": null,
      "outputs": []
    },
    {
      "cell_type": "code",
      "metadata": {
        "colab": {
          "base_uri": "https://localhost:8080/"
        },
        "id": "Enhjd-H6Br3G",
        "outputId": "86009ff0-087f-4432-ae7d-7f29e6976303"
      },
      "source": [
        "print(\"Total number of samples in the original training data = \", len(train)) # 545\n",
        "print(\"Total number of samples in the generated data = \", len(train_generator)) # 538 with seq_size=7"
      ],
      "execution_count": null,
      "outputs": [
        {
          "output_type": "stream",
          "text": [
            "Total number of samples in the original training data =  545\n",
            "Total number of samples in the generated data =  538\n"
          ],
          "name": "stdout"
        }
      ]
    },
    {
      "cell_type": "code",
      "metadata": {
        "id": "4cDIOjUyByhV"
      },
      "source": [
        "x,y = train_generator[10]"
      ],
      "execution_count": null,
      "outputs": []
    },
    {
      "cell_type": "code",
      "metadata": {
        "colab": {
          "base_uri": "https://localhost:8080/"
        },
        "id": "tjgUjRphBr7L",
        "outputId": "981bbc50-108f-40e4-fd07-b24ccc898e0f"
      },
      "source": [
        "x.shape"
      ],
      "execution_count": null,
      "outputs": [
        {
          "output_type": "execute_result",
          "data": {
            "text/plain": [
              "(1, 7, 1)"
            ]
          },
          "metadata": {
            "tags": []
          },
          "execution_count": 23
        }
      ]
    },
    {
      "cell_type": "code",
      "metadata": {
        "colab": {
          "base_uri": "https://localhost:8080/"
        },
        "id": "3Cbog_zTB2MR",
        "outputId": "cbffb79d-9fd5-49d1-889d-8daaab9ca3c8"
      },
      "source": [
        "y.shape"
      ],
      "execution_count": null,
      "outputs": [
        {
          "output_type": "execute_result",
          "data": {
            "text/plain": [
              "(1, 1)"
            ]
          },
          "metadata": {
            "tags": []
          },
          "execution_count": 24
        }
      ]
    },
    {
      "cell_type": "code",
      "metadata": {
        "colab": {
          "base_uri": "https://localhost:8080/"
        },
        "id": "OheKNwuCB3qX",
        "outputId": "9f8a117e-31a2-4dce-fe9d-cab9e8350ab9"
      },
      "source": [
        "test_generator = TimeseriesGenerator(test_scaled, test_scaled, length=seq_size, batch_size=1)\n",
        "print(\"Total number of samples in the original training data = \", len(test)) # 14 as we're using last 14 days for test\n",
        "print(\"Total number of samples in the generated data = \", len(test_generator)) # 7"
      ],
      "execution_count": null,
      "outputs": [
        {
          "output_type": "stream",
          "text": [
            "Total number of samples in the original training data =  14\n",
            "Total number of samples in the generated data =  7\n"
          ],
          "name": "stdout"
        }
      ]
    },
    {
      "cell_type": "code",
      "metadata": {
        "id": "sm9-0FDhB30y"
      },
      "source": [
        "x,y = test_generator[0]"
      ],
      "execution_count": null,
      "outputs": []
    },
    {
      "cell_type": "code",
      "metadata": {
        "id": "bTdYrjAiCHA9"
      },
      "source": [
        "from keras.models import Sequential\n",
        "from keras.layers import Dense,LSTM,Dropout,Activation"
      ],
      "execution_count": null,
      "outputs": []
    },
    {
      "cell_type": "code",
      "metadata": {
        "colab": {
          "base_uri": "https://localhost:8080/"
        },
        "id": "kLMspShZCHKV",
        "outputId": "99a4296c-ec09-4940-bed9-cc3e1b0ad408"
      },
      "source": [
        "model =Sequential()\n",
        "model.add(LSTM(150,activation='relu',return_sequences=True,input_shape=(seq_size,n_features)))\n",
        "model.add(LSTM(64,activation='relu'))\n",
        "model.add(Dense(64))\n",
        "model.add(Dense(1))"
      ],
      "execution_count": null,
      "outputs": [
        {
          "output_type": "stream",
          "text": [
            "WARNING:tensorflow:Layer lstm will not use cuDNN kernels since it doesn't meet the criteria. It will use a generic GPU kernel as fallback when running on GPU.\n",
            "WARNING:tensorflow:Layer lstm_1 will not use cuDNN kernels since it doesn't meet the criteria. It will use a generic GPU kernel as fallback when running on GPU.\n"
          ],
          "name": "stdout"
        }
      ]
    },
    {
      "cell_type": "code",
      "metadata": {
        "colab": {
          "base_uri": "https://localhost:8080/"
        },
        "id": "xosQneKcCQH2",
        "outputId": "f98c44bc-c383-4505-8260-2c5cbb2c2a91"
      },
      "source": [
        "model.summary()"
      ],
      "execution_count": null,
      "outputs": [
        {
          "output_type": "stream",
          "text": [
            "Model: \"sequential\"\n",
            "_________________________________________________________________\n",
            "Layer (type)                 Output Shape              Param #   \n",
            "=================================================================\n",
            "lstm (LSTM)                  (None, 7, 150)            91200     \n",
            "_________________________________________________________________\n",
            "lstm_1 (LSTM)                (None, 64)                55040     \n",
            "_________________________________________________________________\n",
            "dense (Dense)                (None, 64)                4160      \n",
            "_________________________________________________________________\n",
            "dense_1 (Dense)              (None, 1)                 65        \n",
            "=================================================================\n",
            "Total params: 150,465\n",
            "Trainable params: 150,465\n",
            "Non-trainable params: 0\n",
            "_________________________________________________________________\n"
          ],
          "name": "stdout"
        }
      ]
    },
    {
      "cell_type": "code",
      "metadata": {
        "id": "Jw43pXGwCTJE"
      },
      "source": [
        "model.compile(optimizer='adam', loss='mean_squared_error')"
      ],
      "execution_count": null,
      "outputs": []
    },
    {
      "cell_type": "code",
      "metadata": {
        "colab": {
          "base_uri": "https://localhost:8080/"
        },
        "id": "_2bHcjdLCS7W",
        "outputId": "694862af-ff4a-44f1-fa59-fafc2ce65d73"
      },
      "source": [
        "history = model.fit_generator(train_generator,validation_data=test_generator,epochs=50,steps_per_epoch=10)"
      ],
      "execution_count": null,
      "outputs": [
        {
          "output_type": "stream",
          "text": [
            "/usr/local/lib/python3.7/dist-packages/keras/engine/training.py:1915: UserWarning: `Model.fit_generator` is deprecated and will be removed in a future version. Please use `Model.fit`, which supports generators.\n",
            "  warnings.warn('`Model.fit_generator` is deprecated and '\n"
          ],
          "name": "stderr"
        },
        {
          "output_type": "stream",
          "text": [
            "Epoch 1/50\n",
            "10/10 [==============================] - 28s 173ms/step - loss: 0.1078 - val_loss: 0.6458\n",
            "Epoch 2/50\n",
            "10/10 [==============================] - 0s 40ms/step - loss: 0.0240 - val_loss: 0.2223\n",
            "Epoch 3/50\n",
            "10/10 [==============================] - 0s 47ms/step - loss: 0.0124 - val_loss: 0.0275\n",
            "Epoch 4/50\n",
            "10/10 [==============================] - 0s 47ms/step - loss: 8.4244e-04 - val_loss: 0.0019\n",
            "Epoch 5/50\n",
            "10/10 [==============================] - 0s 43ms/step - loss: 0.0039 - val_loss: 0.0113\n",
            "Epoch 6/50\n",
            "10/10 [==============================] - 0s 41ms/step - loss: 8.8702e-04 - val_loss: 2.0226e-05\n",
            "Epoch 7/50\n",
            "10/10 [==============================] - 0s 43ms/step - loss: 0.0014 - val_loss: 0.0286\n",
            "Epoch 8/50\n",
            "10/10 [==============================] - 0s 46ms/step - loss: 0.0041 - val_loss: 2.7500e-04\n",
            "Epoch 9/50\n",
            "10/10 [==============================] - 0s 44ms/step - loss: 0.0015 - val_loss: 0.0177\n",
            "Epoch 10/50\n",
            "10/10 [==============================] - 0s 44ms/step - loss: 0.0010 - val_loss: 0.0092\n",
            "Epoch 11/50\n",
            "10/10 [==============================] - 0s 43ms/step - loss: 0.0010 - val_loss: 0.0054\n",
            "Epoch 12/50\n",
            "10/10 [==============================] - 0s 41ms/step - loss: 3.2623e-04 - val_loss: 1.0215e-05\n",
            "Epoch 13/50\n",
            "10/10 [==============================] - 0s 45ms/step - loss: 9.9507e-05 - val_loss: 7.3993e-05\n",
            "Epoch 14/50\n",
            "10/10 [==============================] - 0s 45ms/step - loss: 2.8643e-04 - val_loss: 1.0919e-04\n",
            "Epoch 15/50\n",
            "10/10 [==============================] - 0s 47ms/step - loss: 6.9405e-04 - val_loss: 0.0113\n",
            "Epoch 16/50\n",
            "10/10 [==============================] - 0s 45ms/step - loss: 0.0012 - val_loss: 0.0323\n",
            "Epoch 17/50\n",
            "10/10 [==============================] - 0s 45ms/step - loss: 0.0018 - val_loss: 0.0036\n",
            "Epoch 18/50\n",
            "10/10 [==============================] - 0s 45ms/step - loss: 5.4460e-04 - val_loss: 0.0031\n",
            "Epoch 19/50\n",
            "10/10 [==============================] - 0s 46ms/step - loss: 7.8161e-05 - val_loss: 8.0504e-04\n",
            "Epoch 20/50\n",
            "10/10 [==============================] - 0s 48ms/step - loss: 2.1324e-04 - val_loss: 8.5794e-06\n",
            "Epoch 21/50\n",
            "10/10 [==============================] - 0s 46ms/step - loss: 2.0053e-04 - val_loss: 4.3034e-04\n",
            "Epoch 22/50\n",
            "10/10 [==============================] - 0s 44ms/step - loss: 1.4378e-04 - val_loss: 0.0021\n",
            "Epoch 23/50\n",
            "10/10 [==============================] - 0s 44ms/step - loss: 1.9941e-04 - val_loss: 1.7000e-05\n",
            "Epoch 24/50\n",
            "10/10 [==============================] - 0s 46ms/step - loss: 1.3131e-04 - val_loss: 3.8027e-06\n",
            "Epoch 25/50\n",
            "10/10 [==============================] - 0s 48ms/step - loss: 5.1092e-05 - val_loss: 5.4596e-06\n",
            "Epoch 26/50\n",
            "10/10 [==============================] - 0s 45ms/step - loss: 3.9917e-05 - val_loss: 5.7642e-04\n",
            "Epoch 27/50\n",
            "10/10 [==============================] - 0s 42ms/step - loss: 2.0928e-05 - val_loss: 0.0024\n",
            "Epoch 28/50\n",
            "10/10 [==============================] - 0s 48ms/step - loss: 7.6823e-05 - val_loss: 0.0026\n",
            "Epoch 29/50\n",
            "10/10 [==============================] - 0s 43ms/step - loss: 4.3934e-05 - val_loss: 0.0039\n",
            "Epoch 30/50\n",
            "10/10 [==============================] - 0s 45ms/step - loss: 5.7360e-05 - val_loss: 0.0046\n",
            "Epoch 31/50\n",
            "10/10 [==============================] - 0s 43ms/step - loss: 2.3496e-04 - val_loss: 0.0105\n",
            "Epoch 32/50\n",
            "10/10 [==============================] - 0s 43ms/step - loss: 3.9526e-04 - val_loss: 0.0056\n",
            "Epoch 33/50\n",
            "10/10 [==============================] - 0s 47ms/step - loss: 7.1467e-04 - val_loss: 8.4423e-04\n",
            "Epoch 34/50\n",
            "10/10 [==============================] - 0s 47ms/step - loss: 0.0114 - val_loss: 0.0119\n",
            "Epoch 35/50\n",
            "10/10 [==============================] - 0s 46ms/step - loss: 0.0089 - val_loss: 0.0019\n",
            "Epoch 36/50\n",
            "10/10 [==============================] - 0s 45ms/step - loss: 4.5545e-04 - val_loss: 0.0027\n",
            "Epoch 37/50\n",
            "10/10 [==============================] - 0s 46ms/step - loss: 8.1584e-04 - val_loss: 0.0010\n",
            "Epoch 38/50\n",
            "10/10 [==============================] - 0s 48ms/step - loss: 5.2039e-04 - val_loss: 3.7277e-04\n",
            "Epoch 39/50\n",
            "10/10 [==============================] - 1s 51ms/step - loss: 8.0814e-05 - val_loss: 1.3740e-04\n",
            "Epoch 40/50\n",
            "10/10 [==============================] - 0s 46ms/step - loss: 1.9707e-04 - val_loss: 0.0034\n",
            "Epoch 41/50\n",
            "10/10 [==============================] - 0s 45ms/step - loss: 3.2329e-04 - val_loss: 0.0040\n",
            "Epoch 42/50\n",
            "10/10 [==============================] - 0s 44ms/step - loss: 3.2146e-04 - val_loss: 1.0651e-05\n",
            "Epoch 43/50\n",
            "10/10 [==============================] - 0s 44ms/step - loss: 2.2559e-04 - val_loss: 0.0027\n",
            "Epoch 44/50\n",
            "10/10 [==============================] - 0s 44ms/step - loss: 1.1104e-04 - val_loss: 1.2819e-05\n",
            "Epoch 45/50\n",
            "10/10 [==============================] - 0s 46ms/step - loss: 1.2984e-04 - val_loss: 0.0016\n",
            "Epoch 46/50\n",
            "10/10 [==============================] - 0s 41ms/step - loss: 5.5560e-04 - val_loss: 0.0020\n",
            "Epoch 47/50\n",
            "10/10 [==============================] - 0s 47ms/step - loss: 6.0223e-04 - val_loss: 0.0272\n",
            "Epoch 48/50\n",
            "10/10 [==============================] - 0s 42ms/step - loss: 1.8112e-04 - val_loss: 3.8731e-04\n",
            "Epoch 49/50\n",
            "10/10 [==============================] - 0s 45ms/step - loss: 3.6188e-04 - val_loss: 0.0095\n",
            "Epoch 50/50\n",
            "10/10 [==============================] - 0s 45ms/step - loss: 2.0213e-04 - val_loss: 0.0036\n"
          ],
          "name": "stdout"
        }
      ]
    },
    {
      "cell_type": "code",
      "metadata": {
        "colab": {
          "base_uri": "https://localhost:8080/",
          "height": 295
        },
        "id": "1cT4of6jCvUZ",
        "outputId": "f5b7acaa-fb7a-44f3-db5c-a75dcb89463b"
      },
      "source": [
        "loss = history.history['loss']\n",
        "val_loss = history.history['val_loss']\n",
        "epochs = range(1, len(loss) + 1)\n",
        "plt.plot(epochs, loss, 'y', label='Training loss')\n",
        "plt.plot(epochs, val_loss, 'r', label='Validation loss')\n",
        "plt.title('Training and validation loss')\n",
        "plt.xlabel('Epochs')\n",
        "plt.ylabel('Loss')\n",
        "plt.legend()\n",
        "plt.show()"
      ],
      "execution_count": null,
      "outputs": [
        {
          "output_type": "display_data",
          "data": {
            "image/png": "[encoded data removed]",
            "text/plain": [
              "<Figure size 432x288 with 1 Axes>"
            ]
          },
          "metadata": {
            "tags": [],
            "needs_background": "light"
          }
        }
      ]
    },
    {
      "cell_type": "code",
      "metadata": {
        "id": "AgJq136UC40I"
      },
      "source": [
        "predictions = []"
      ],
      "execution_count": null,
      "outputs": []
    },
    {
      "cell_type": "code",
      "metadata": {
        "id": "_P3FKWPgC5A-"
      },
      "source": [
        "current_batch = train_scaled[-seq_size:]\n",
        "current_batch = current_batch.reshape(1, seq_size, n_features) #Reshape"
      ],
      "execution_count": null,
      "outputs": []
    },
    {
      "cell_type": "code",
      "metadata": {
        "id": "AQ1qWuX9DEkz"
      },
      "source": [
        "future = 7"
      ],
      "execution_count": null,
      "outputs": []
    },
    {
      "cell_type": "code",
      "metadata": {
        "id": "A3D7YSkyDErq"
      },
      "source": [
        "for i in range(len(test)+future):\n",
        "  current_pred  = model.predict(current_batch)[0]\n",
        "  predictions.append(current_pred)\n",
        "  current_batch = np.append(current_batch[:,1:,:],[[current_pred]],axis=1)"
      ],
      "execution_count": null,
      "outputs": []
    },
    {
      "cell_type": "code",
      "metadata": {
        "id": "Kvd-eIUmDJm7"
      },
      "source": [
        "rescaled_predictions = scaler.inverse_transform(predictions)"
      ],
      "execution_count": null,
      "outputs": []
    },
    {
      "cell_type": "code",
      "metadata": {
        "colab": {
          "base_uri": "https://localhost:8080/"
        },
        "id": "ou400vNrDJ0Q",
        "outputId": "2eb3a18e-9b94-4195-e954-82af471444cd"
      },
      "source": [
        "rescaled_predictions"
      ],
      "execution_count": null,
      "outputs": [
        {
          "output_type": "execute_result",
          "data": {
            "text/plain": [
              "array([[ 565758.46546233],\n",
              "       [ 575172.67837298],\n",
              "       [ 585159.28526723],\n",
              "       [ 595900.86347175],\n",
              "       [ 607276.45796072],\n",
              "       [ 619525.03504527],\n",
              "       [ 633322.60837412],\n",
              "       [ 649538.30097198],\n",
              "       [ 665365.09274328],\n",
              "       [ 682736.95577157],\n",
              "       [ 701806.96456218],\n",
              "       [ 722781.90053022],\n",
              "       [ 746003.69548738],\n",
              "       [ 771853.79278433],\n",
              "       [ 800641.0235064 ],\n",
              "       [ 832574.98197627],\n",
              "       [ 868718.48934269],\n",
              "       [ 909859.42139292],\n",
              "       [ 957085.45752871],\n",
              "       [1011863.88884175],\n",
              "       [1076160.67606223]])"
            ]
          },
          "metadata": {
            "tags": []
          },
          "execution_count": 45
        }
      ]
    },
    {
      "cell_type": "code",
      "metadata": {
        "id": "UlEcuZxaDYQN"
      },
      "source": [
        "time_series_array = test.index"
      ],
      "execution_count": null,
      "outputs": []
    },
    {
      "cell_type": "code",
      "metadata": {
        "id": "7GQHogt5Dfkg"
      },
      "source": [
        "for k in range(0,future):\n",
        "  time_series_array = time_series_array.append(time_series_array[-1:] + pd.DateOffset(1))"
      ],
      "execution_count": null,
      "outputs": []
    },
    {
      "cell_type": "code",
      "metadata": {
        "id": "YWusO0vSDlRg"
      },
      "source": [
        "df_forecast = pd.DataFrame(columns=[\"actual_confirmed\",\"predicted\"], index=time_series_array)"
      ],
      "execution_count": null,
      "outputs": []
    },
    {
      "cell_type": "code",
      "metadata": {
        "id": "AVIZCgq2DqG-"
      },
      "source": [
        "df_forecast.loc[:,\"predicted\"] = rescaled_predictions[:,0]\n",
        "df_forecast.loc[:,\"actual_confirmed\"] = test[\"confirmed\"]"
      ],
      "execution_count": null,
      "outputs": []
    },
    {
      "cell_type": "code",
      "metadata": {
        "colab": {
          "base_uri": "https://localhost:8080/",
          "height": 322
        },
        "id": "RA7821X_Dupa",
        "outputId": "5ed6b128-24c0-4136-c1f2-0fda9a092b89"
      },
      "source": [
        "df_forecast.plot(title=\"Predictions for next 7 days\")"
      ],
      "execution_count": null,
      "outputs": [
        {
          "output_type": "execute_result",
          "data": {
            "text/plain": [
              "<matplotlib.axes._subplots.AxesSubplot at 0x7f19eff4c390>"
            ]
          },
          "metadata": {
            "tags": []
          },
          "execution_count": 43
        },
        {
          "output_type": "display_data",
          "data": {
            "image/png": "[encoded data removed]",
            "text/plain": [
              "<Figure size 432x288 with 1 Axes>"
            ]
          },
          "metadata": {
            "tags": [],
            "needs_background": "light"
          }
        }
      ]
    }
  ]
}